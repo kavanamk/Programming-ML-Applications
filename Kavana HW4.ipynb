{
 "cells": [
  {
   "cell_type": "markdown",
   "id": "b391a51c-d531-467d-b4d3-601764a7a36e",
   "metadata": {},
   "source": [
    "# Homework 5"
   ]
  },
  {
   "cell_type": "markdown",
   "id": "52b330d4-15b1-4efa-92a6-3b983cde94e9",
   "metadata": {},
   "source": [
    "### Name: Kavana Manvi Krishnamurthy\n",
    "### Student ID: 2158984"
   ]
  },
  {
   "cell_type": "markdown",
   "id": "a90e1cae-e03d-4b53-8e95-569b4e7caaa3",
   "metadata": {},
   "source": [
    "## 1.\tPCA for Reduced Dimensionality in Clustering [Dataset: segmentation_data.zip]\n",
    "For this problem you will use an image segmentation data set for clustering. You will experiment with using PCA as an approach to reduce dimensionality and noise in the data. You will compare the results of clustering the data with and without PCA using the provided image class assignments as the ground truth. The data set is divided into three files. The file \"segmentation_data.txt\" contains data about images with each line corresponding to one image. Each image is represented by 19 features (these are the columns in the data and correspond to the feature names in the file \"segmentation_names.txt\". The file \"segmentation_classes.txt\" contains the class labels (the type of image) and a numeric class label for each of the corresponding images in the data file. After clustering the image data, you will use the class labels to measure completeness and homogeneity of the generated clusters. The data set used in this problem is based on the Image Segmentation data set at the UCI Machine Learning Repository.\n",
    "Your tasks in this problem are the following:\n"
   ]
  },
  {
   "cell_type": "markdown",
   "id": "eb168b5d-1928-44d7-b2c0-9ff5b219f9d9",
   "metadata": {},
   "source": [
    "## a.\t[5 pts] Load in the image data matrix (with rows as images and columns as features). Also load in the numeric class labels from the segmentation class file. Using your favorite method (e.g., sklearn's min-max scaler), perform min-max normalization on the data matrix so that each feature is scaled to [0,1] range."
   ]
  },
  {
   "cell_type": "code",
   "execution_count": 5,
   "id": "1ee5ce97-ca54-4a1a-84e5-f3f9599f50c3",
   "metadata": {},
   "outputs": [],
   "source": [
    "import numpy as np\n",
    "import pylab as pl\n",
    "import pandas as pd\n",
    "from sklearn.cluster import KMeans "
   ]
  },
  {
   "cell_type": "code",
   "execution_count": 6,
   "id": "a4c4b301-ea86-4011-b16e-d9ab24402863",
   "metadata": {},
   "outputs": [
    {
     "data": {
      "text/html": [
       "<div>\n",
       "<style scoped>\n",
       "    .dataframe tbody tr th:only-of-type {\n",
       "        vertical-align: middle;\n",
       "    }\n",
       "\n",
       "    .dataframe tbody tr th {\n",
       "        vertical-align: top;\n",
       "    }\n",
       "\n",
       "    .dataframe thead th {\n",
       "        text-align: right;\n",
       "    }\n",
       "</style>\n",
       "<table border=\"1\" class=\"dataframe\">\n",
       "  <thead>\n",
       "    <tr style=\"text-align: right;\">\n",
       "      <th></th>\n",
       "      <th>0</th>\n",
       "      <th>1</th>\n",
       "      <th>2</th>\n",
       "      <th>3</th>\n",
       "      <th>4</th>\n",
       "      <th>5</th>\n",
       "      <th>6</th>\n",
       "      <th>7</th>\n",
       "      <th>8</th>\n",
       "      <th>9</th>\n",
       "      <th>10</th>\n",
       "      <th>11</th>\n",
       "      <th>12</th>\n",
       "      <th>13</th>\n",
       "      <th>14</th>\n",
       "      <th>15</th>\n",
       "      <th>16</th>\n",
       "      <th>17</th>\n",
       "      <th>18</th>\n",
       "    </tr>\n",
       "  </thead>\n",
       "  <tbody>\n",
       "    <tr>\n",
       "      <th>0</th>\n",
       "      <td>110.0</td>\n",
       "      <td>189.0</td>\n",
       "      <td>9</td>\n",
       "      <td>0.0</td>\n",
       "      <td>0.0</td>\n",
       "      <td>1.000000</td>\n",
       "      <td>0.666667</td>\n",
       "      <td>1.222222</td>\n",
       "      <td>1.186342</td>\n",
       "      <td>12.925926</td>\n",
       "      <td>10.888889</td>\n",
       "      <td>9.222222</td>\n",
       "      <td>18.666668</td>\n",
       "      <td>-6.111111</td>\n",
       "      <td>-11.111111</td>\n",
       "      <td>17.222221</td>\n",
       "      <td>18.666668</td>\n",
       "      <td>0.508139</td>\n",
       "      <td>1.910864</td>\n",
       "    </tr>\n",
       "    <tr>\n",
       "      <th>1</th>\n",
       "      <td>86.0</td>\n",
       "      <td>187.0</td>\n",
       "      <td>9</td>\n",
       "      <td>0.0</td>\n",
       "      <td>0.0</td>\n",
       "      <td>1.111111</td>\n",
       "      <td>0.720082</td>\n",
       "      <td>1.444444</td>\n",
       "      <td>0.750309</td>\n",
       "      <td>13.740741</td>\n",
       "      <td>11.666667</td>\n",
       "      <td>10.333334</td>\n",
       "      <td>19.222221</td>\n",
       "      <td>-6.222222</td>\n",
       "      <td>-10.222222</td>\n",
       "      <td>16.444445</td>\n",
       "      <td>19.222221</td>\n",
       "      <td>0.463329</td>\n",
       "      <td>1.941465</td>\n",
       "    </tr>\n",
       "    <tr>\n",
       "      <th>2</th>\n",
       "      <td>225.0</td>\n",
       "      <td>244.0</td>\n",
       "      <td>9</td>\n",
       "      <td>0.0</td>\n",
       "      <td>0.0</td>\n",
       "      <td>3.388889</td>\n",
       "      <td>2.195113</td>\n",
       "      <td>3.000000</td>\n",
       "      <td>1.520234</td>\n",
       "      <td>12.259259</td>\n",
       "      <td>10.333334</td>\n",
       "      <td>9.333334</td>\n",
       "      <td>17.111110</td>\n",
       "      <td>-5.777778</td>\n",
       "      <td>-8.777778</td>\n",
       "      <td>14.555555</td>\n",
       "      <td>17.111110</td>\n",
       "      <td>0.480149</td>\n",
       "      <td>1.987902</td>\n",
       "    </tr>\n",
       "  </tbody>\n",
       "</table>\n",
       "</div>"
      ],
      "text/plain": [
       "      0      1   2    3    4         5         6         7         8   \\\n",
       "0  110.0  189.0   9  0.0  0.0  1.000000  0.666667  1.222222  1.186342   \n",
       "1   86.0  187.0   9  0.0  0.0  1.111111  0.720082  1.444444  0.750309   \n",
       "2  225.0  244.0   9  0.0  0.0  3.388889  2.195113  3.000000  1.520234   \n",
       "\n",
       "          9          10         11         12        13         14         15  \\\n",
       "0  12.925926  10.888889   9.222222  18.666668 -6.111111 -11.111111  17.222221   \n",
       "1  13.740741  11.666667  10.333334  19.222221 -6.222222 -10.222222  16.444445   \n",
       "2  12.259259  10.333334   9.333334  17.111110 -5.777778  -8.777778  14.555555   \n",
       "\n",
       "          16        17        18  \n",
       "0  18.666668  0.508139  1.910864  \n",
       "1  19.222221  0.463329  1.941465  \n",
       "2  17.111110  0.480149  1.987902  "
      ]
     },
     "execution_count": 6,
     "metadata": {},
     "output_type": "execute_result"
    }
   ],
   "source": [
    "df = pd.read_csv(\"/Users/kavanamanvi/Desktop/PML/HW4/segmentation_data/segmentation_data.txt\", header=None)\n",
    "df.head(3)"
   ]
  },
  {
   "cell_type": "code",
   "execution_count": 7,
   "id": "bd5742a6-21a8-412b-a4bb-b38f6c037733",
   "metadata": {},
   "outputs": [
    {
     "data": {
      "text/html": [
       "<div>\n",
       "<style scoped>\n",
       "    .dataframe tbody tr th:only-of-type {\n",
       "        vertical-align: middle;\n",
       "    }\n",
       "\n",
       "    .dataframe tbody tr th {\n",
       "        vertical-align: top;\n",
       "    }\n",
       "\n",
       "    .dataframe thead th {\n",
       "        text-align: right;\n",
       "    }\n",
       "</style>\n",
       "<table border=\"1\" class=\"dataframe\">\n",
       "  <thead>\n",
       "    <tr style=\"text-align: right;\">\n",
       "      <th></th>\n",
       "      <th>0</th>\n",
       "      <th>1</th>\n",
       "    </tr>\n",
       "  </thead>\n",
       "  <tbody>\n",
       "    <tr>\n",
       "      <th>0</th>\n",
       "      <td>GRASS</td>\n",
       "      <td>0</td>\n",
       "    </tr>\n",
       "    <tr>\n",
       "      <th>1</th>\n",
       "      <td>GRASS</td>\n",
       "      <td>0</td>\n",
       "    </tr>\n",
       "    <tr>\n",
       "      <th>2</th>\n",
       "      <td>GRASS</td>\n",
       "      <td>0</td>\n",
       "    </tr>\n",
       "  </tbody>\n",
       "</table>\n",
       "</div>"
      ],
      "text/plain": [
       "       0  1\n",
       "0  GRASS  0\n",
       "1  GRASS  0\n",
       "2  GRASS  0"
      ]
     },
     "execution_count": 7,
     "metadata": {},
     "output_type": "execute_result"
    }
   ],
   "source": [
    "import pandas as pd\n",
    "\n",
    "# Read the segmentation classes from the specified file\n",
    "df_classes = pd.read_csv(\"/Users/kavanamanvi/Desktop/PML/HW4/segmentation_data/segmentation_classes.txt\", header=None, delimiter='\\t')\n",
    "\n",
    "# Display the first 3 rows\n",
    "df_classes.head(3)\n"
   ]
  },
  {
   "cell_type": "code",
   "execution_count": 8,
   "id": "7c9cfab3-fe9a-4a6e-838c-8592d7180b04",
   "metadata": {},
   "outputs": [
    {
     "data": {
      "text/html": [
       "<div>\n",
       "<style scoped>\n",
       "    .dataframe tbody tr th:only-of-type {\n",
       "        vertical-align: middle;\n",
       "    }\n",
       "\n",
       "    .dataframe tbody tr th {\n",
       "        vertical-align: top;\n",
       "    }\n",
       "\n",
       "    .dataframe thead th {\n",
       "        text-align: right;\n",
       "    }\n",
       "</style>\n",
       "<table border=\"1\" class=\"dataframe\">\n",
       "  <thead>\n",
       "    <tr style=\"text-align: right;\">\n",
       "      <th></th>\n",
       "      <th>0</th>\n",
       "    </tr>\n",
       "  </thead>\n",
       "  <tbody>\n",
       "    <tr>\n",
       "      <th>0</th>\n",
       "      <td>REGION-CENTROID-COL</td>\n",
       "    </tr>\n",
       "    <tr>\n",
       "      <th>1</th>\n",
       "      <td>REGION-CENTROID-ROW</td>\n",
       "    </tr>\n",
       "    <tr>\n",
       "      <th>2</th>\n",
       "      <td>REGION-PIXEL-COUNT</td>\n",
       "    </tr>\n",
       "  </tbody>\n",
       "</table>\n",
       "</div>"
      ],
      "text/plain": [
       "                     0\n",
       "0  REGION-CENTROID-COL\n",
       "1  REGION-CENTROID-ROW\n",
       "2   REGION-PIXEL-COUNT"
      ]
     },
     "execution_count": 8,
     "metadata": {},
     "output_type": "execute_result"
    }
   ],
   "source": [
    "df_names = pd.read_csv(\"/Users/kavanamanvi/Desktop/PML/HW4/segmentation_data/segmentation_names.txt\", header=None)\n",
    "\n",
    "# Display the first 3 rows\n",
    "df_names.head(3)\n"
   ]
  },
  {
   "cell_type": "code",
   "execution_count": 9,
   "id": "fe74dbb7-8886-453a-9d62-55ec0afc8f8d",
   "metadata": {},
   "outputs": [],
   "source": [
    "from sklearn.preprocessing import MinMaxScaler"
   ]
  },
  {
   "cell_type": "code",
   "execution_count": 10,
   "id": "0d9b1f0e-0da9-4193-a745-69db32c6a76c",
   "metadata": {},
   "outputs": [
    {
     "data": {
      "text/html": [
       "<div>\n",
       "<style scoped>\n",
       "    .dataframe tbody tr th:only-of-type {\n",
       "        vertical-align: middle;\n",
       "    }\n",
       "\n",
       "    .dataframe tbody tr th {\n",
       "        vertical-align: top;\n",
       "    }\n",
       "\n",
       "    .dataframe thead th {\n",
       "        text-align: right;\n",
       "    }\n",
       "</style>\n",
       "<table border=\"1\" class=\"dataframe\">\n",
       "  <thead>\n",
       "    <tr style=\"text-align: right;\">\n",
       "      <th></th>\n",
       "      <th>0</th>\n",
       "      <th>1</th>\n",
       "      <th>2</th>\n",
       "      <th>3</th>\n",
       "      <th>4</th>\n",
       "      <th>5</th>\n",
       "      <th>6</th>\n",
       "      <th>7</th>\n",
       "      <th>8</th>\n",
       "      <th>9</th>\n",
       "      <th>10</th>\n",
       "      <th>11</th>\n",
       "      <th>12</th>\n",
       "      <th>13</th>\n",
       "      <th>14</th>\n",
       "      <th>15</th>\n",
       "      <th>16</th>\n",
       "      <th>17</th>\n",
       "      <th>18</th>\n",
       "    </tr>\n",
       "  </thead>\n",
       "  <tbody>\n",
       "    <tr>\n",
       "      <th>0</th>\n",
       "      <td>0.430830</td>\n",
       "      <td>0.741667</td>\n",
       "      <td>0.0</td>\n",
       "      <td>0.0</td>\n",
       "      <td>0.0</td>\n",
       "      <td>0.034221</td>\n",
       "      <td>0.000672</td>\n",
       "      <td>0.027329</td>\n",
       "      <td>0.000856</td>\n",
       "      <td>0.090111</td>\n",
       "      <td>0.079417</td>\n",
       "      <td>0.061119</td>\n",
       "      <td>0.130943</td>\n",
       "      <td>0.731343</td>\n",
       "      <td>0.014118</td>\n",
       "      <td>0.872865</td>\n",
       "      <td>0.123711</td>\n",
       "      <td>0.508139</td>\n",
       "      <td>0.831849</td>\n",
       "    </tr>\n",
       "    <tr>\n",
       "      <th>1</th>\n",
       "      <td>0.335968</td>\n",
       "      <td>0.733333</td>\n",
       "      <td>0.0</td>\n",
       "      <td>0.0</td>\n",
       "      <td>0.0</td>\n",
       "      <td>0.038023</td>\n",
       "      <td>0.000726</td>\n",
       "      <td>0.032298</td>\n",
       "      <td>0.000541</td>\n",
       "      <td>0.095791</td>\n",
       "      <td>0.085089</td>\n",
       "      <td>0.068483</td>\n",
       "      <td>0.134840</td>\n",
       "      <td>0.729478</td>\n",
       "      <td>0.023529</td>\n",
       "      <td>0.859583</td>\n",
       "      <td>0.127393</td>\n",
       "      <td>0.463329</td>\n",
       "      <td>0.836986</td>\n",
       "    </tr>\n",
       "    <tr>\n",
       "      <th>2</th>\n",
       "      <td>0.885375</td>\n",
       "      <td>0.970833</td>\n",
       "      <td>0.0</td>\n",
       "      <td>0.0</td>\n",
       "      <td>0.0</td>\n",
       "      <td>0.115970</td>\n",
       "      <td>0.002213</td>\n",
       "      <td>0.067081</td>\n",
       "      <td>0.001097</td>\n",
       "      <td>0.085463</td>\n",
       "      <td>0.075365</td>\n",
       "      <td>0.061856</td>\n",
       "      <td>0.120031</td>\n",
       "      <td>0.736940</td>\n",
       "      <td>0.038824</td>\n",
       "      <td>0.827324</td>\n",
       "      <td>0.113402</td>\n",
       "      <td>0.480149</td>\n",
       "      <td>0.844782</td>\n",
       "    </tr>\n",
       "  </tbody>\n",
       "</table>\n",
       "</div>"
      ],
      "text/plain": [
       "         0         1    2    3    4         5         6         7         8   \\\n",
       "0  0.430830  0.741667  0.0  0.0  0.0  0.034221  0.000672  0.027329  0.000856   \n",
       "1  0.335968  0.733333  0.0  0.0  0.0  0.038023  0.000726  0.032298  0.000541   \n",
       "2  0.885375  0.970833  0.0  0.0  0.0  0.115970  0.002213  0.067081  0.001097   \n",
       "\n",
       "         9         10        11        12        13        14        15  \\\n",
       "0  0.090111  0.079417  0.061119  0.130943  0.731343  0.014118  0.872865   \n",
       "1  0.095791  0.085089  0.068483  0.134840  0.729478  0.023529  0.859583   \n",
       "2  0.085463  0.075365  0.061856  0.120031  0.736940  0.038824  0.827324   \n",
       "\n",
       "         16        17        18  \n",
       "0  0.123711  0.508139  0.831849  \n",
       "1  0.127393  0.463329  0.836986  \n",
       "2  0.113402  0.480149  0.844782  "
      ]
     },
     "execution_count": 10,
     "metadata": {},
     "output_type": "execute_result"
    }
   ],
   "source": [
    "scaler = MinMaxScaler()\n",
    "df_norm = scaler.fit_transform(df)\n",
    "# Convert the normalized numpy array back to a DataFrame\n",
    "df_norm = pd.DataFrame(df_norm)\n",
    "# Now use the head() method to display the first 10 rows\n",
    "df_norm.head(3)"
   ]
  },
  {
   "cell_type": "markdown",
   "id": "7c8a728b-67b1-4552-b3ba-80ca27f47cb7",
   "metadata": {},
   "source": [
    "## b.\t[10 pts] Using the Kmeans implementation in scikit-learn, perform clustering on the image data (use K = 7 in your clustering so that later we can compare the clusters to the 7 pre-assigned image classes). Print the cluster centroids (use some formatting so that they are visually understandable). To evaluate your clusters, first perform Silhouette analysis on the clusters (compute Silhouette values for all instances in the data, and then compute the overall mean Silhouette value; optionally, you can provide a visualization of the Silhouettes). Next, compare your 7 clusters to the 7 pre-assigned classes by computing the Completeness and Homogeneity values of the generated clusters.\n"
   ]
  },
  {
   "cell_type": "markdown",
   "id": "1cb8c79f-cb20-4827-a23e-f5f60f1021e0",
   "metadata": {},
   "source": [
    "cluster_centroids = pd.DataFrame(scaler.inverse_transform(kmeans.cluster_centers_), columns=names.values.flatten())"
   ]
  },
  {
   "cell_type": "code",
   "execution_count": 13,
   "id": "7bc7fb21-98df-4321-a267-a2d1e7f151ee",
   "metadata": {},
   "outputs": [],
   "source": [
    "from sklearn.cluster import KMeans\n",
    "import pandas as pd"
   ]
  },
  {
   "cell_type": "code",
   "execution_count": 14,
   "id": "05781db6-0574-4f87-a875-7ba38c454adc",
   "metadata": {},
   "outputs": [
    {
     "data": {
      "text/html": [
       "<style>#sk-container-id-1 {\n",
       "  /* Definition of color scheme common for light and dark mode */\n",
       "  --sklearn-color-text: black;\n",
       "  --sklearn-color-line: gray;\n",
       "  /* Definition of color scheme for unfitted estimators */\n",
       "  --sklearn-color-unfitted-level-0: #fff5e6;\n",
       "  --sklearn-color-unfitted-level-1: #f6e4d2;\n",
       "  --sklearn-color-unfitted-level-2: #ffe0b3;\n",
       "  --sklearn-color-unfitted-level-3: chocolate;\n",
       "  /* Definition of color scheme for fitted estimators */\n",
       "  --sklearn-color-fitted-level-0: #f0f8ff;\n",
       "  --sklearn-color-fitted-level-1: #d4ebff;\n",
       "  --sklearn-color-fitted-level-2: #b3dbfd;\n",
       "  --sklearn-color-fitted-level-3: cornflowerblue;\n",
       "\n",
       "  /* Specific color for light theme */\n",
       "  --sklearn-color-text-on-default-background: var(--sg-text-color, var(--theme-code-foreground, var(--jp-content-font-color1, black)));\n",
       "  --sklearn-color-background: var(--sg-background-color, var(--theme-background, var(--jp-layout-color0, white)));\n",
       "  --sklearn-color-border-box: var(--sg-text-color, var(--theme-code-foreground, var(--jp-content-font-color1, black)));\n",
       "  --sklearn-color-icon: #696969;\n",
       "\n",
       "  @media (prefers-color-scheme: dark) {\n",
       "    /* Redefinition of color scheme for dark theme */\n",
       "    --sklearn-color-text-on-default-background: var(--sg-text-color, var(--theme-code-foreground, var(--jp-content-font-color1, white)));\n",
       "    --sklearn-color-background: var(--sg-background-color, var(--theme-background, var(--jp-layout-color0, #111)));\n",
       "    --sklearn-color-border-box: var(--sg-text-color, var(--theme-code-foreground, var(--jp-content-font-color1, white)));\n",
       "    --sklearn-color-icon: #878787;\n",
       "  }\n",
       "}\n",
       "\n",
       "#sk-container-id-1 {\n",
       "  color: var(--sklearn-color-text);\n",
       "}\n",
       "\n",
       "#sk-container-id-1 pre {\n",
       "  padding: 0;\n",
       "}\n",
       "\n",
       "#sk-container-id-1 input.sk-hidden--visually {\n",
       "  border: 0;\n",
       "  clip: rect(1px 1px 1px 1px);\n",
       "  clip: rect(1px, 1px, 1px, 1px);\n",
       "  height: 1px;\n",
       "  margin: -1px;\n",
       "  overflow: hidden;\n",
       "  padding: 0;\n",
       "  position: absolute;\n",
       "  width: 1px;\n",
       "}\n",
       "\n",
       "#sk-container-id-1 div.sk-dashed-wrapped {\n",
       "  border: 1px dashed var(--sklearn-color-line);\n",
       "  margin: 0 0.4em 0.5em 0.4em;\n",
       "  box-sizing: border-box;\n",
       "  padding-bottom: 0.4em;\n",
       "  background-color: var(--sklearn-color-background);\n",
       "}\n",
       "\n",
       "#sk-container-id-1 div.sk-container {\n",
       "  /* jupyter's `normalize.less` sets `[hidden] { display: none; }`\n",
       "     but bootstrap.min.css set `[hidden] { display: none !important; }`\n",
       "     so we also need the `!important` here to be able to override the\n",
       "     default hidden behavior on the sphinx rendered scikit-learn.org.\n",
       "     See: https://github.com/scikit-learn/scikit-learn/issues/21755 */\n",
       "  display: inline-block !important;\n",
       "  position: relative;\n",
       "}\n",
       "\n",
       "#sk-container-id-1 div.sk-text-repr-fallback {\n",
       "  display: none;\n",
       "}\n",
       "\n",
       "div.sk-parallel-item,\n",
       "div.sk-serial,\n",
       "div.sk-item {\n",
       "  /* draw centered vertical line to link estimators */\n",
       "  background-image: linear-gradient(var(--sklearn-color-text-on-default-background), var(--sklearn-color-text-on-default-background));\n",
       "  background-size: 2px 100%;\n",
       "  background-repeat: no-repeat;\n",
       "  background-position: center center;\n",
       "}\n",
       "\n",
       "/* Parallel-specific style estimator block */\n",
       "\n",
       "#sk-container-id-1 div.sk-parallel-item::after {\n",
       "  content: \"\";\n",
       "  width: 100%;\n",
       "  border-bottom: 2px solid var(--sklearn-color-text-on-default-background);\n",
       "  flex-grow: 1;\n",
       "}\n",
       "\n",
       "#sk-container-id-1 div.sk-parallel {\n",
       "  display: flex;\n",
       "  align-items: stretch;\n",
       "  justify-content: center;\n",
       "  background-color: var(--sklearn-color-background);\n",
       "  position: relative;\n",
       "}\n",
       "\n",
       "#sk-container-id-1 div.sk-parallel-item {\n",
       "  display: flex;\n",
       "  flex-direction: column;\n",
       "}\n",
       "\n",
       "#sk-container-id-1 div.sk-parallel-item:first-child::after {\n",
       "  align-self: flex-end;\n",
       "  width: 50%;\n",
       "}\n",
       "\n",
       "#sk-container-id-1 div.sk-parallel-item:last-child::after {\n",
       "  align-self: flex-start;\n",
       "  width: 50%;\n",
       "}\n",
       "\n",
       "#sk-container-id-1 div.sk-parallel-item:only-child::after {\n",
       "  width: 0;\n",
       "}\n",
       "\n",
       "/* Serial-specific style estimator block */\n",
       "\n",
       "#sk-container-id-1 div.sk-serial {\n",
       "  display: flex;\n",
       "  flex-direction: column;\n",
       "  align-items: center;\n",
       "  background-color: var(--sklearn-color-background);\n",
       "  padding-right: 1em;\n",
       "  padding-left: 1em;\n",
       "}\n",
       "\n",
       "\n",
       "/* Toggleable style: style used for estimator/Pipeline/ColumnTransformer box that is\n",
       "clickable and can be expanded/collapsed.\n",
       "- Pipeline and ColumnTransformer use this feature and define the default style\n",
       "- Estimators will overwrite some part of the style using the `sk-estimator` class\n",
       "*/\n",
       "\n",
       "/* Pipeline and ColumnTransformer style (default) */\n",
       "\n",
       "#sk-container-id-1 div.sk-toggleable {\n",
       "  /* Default theme specific background. It is overwritten whether we have a\n",
       "  specific estimator or a Pipeline/ColumnTransformer */\n",
       "  background-color: var(--sklearn-color-background);\n",
       "}\n",
       "\n",
       "/* Toggleable label */\n",
       "#sk-container-id-1 label.sk-toggleable__label {\n",
       "  cursor: pointer;\n",
       "  display: block;\n",
       "  width: 100%;\n",
       "  margin-bottom: 0;\n",
       "  padding: 0.5em;\n",
       "  box-sizing: border-box;\n",
       "  text-align: center;\n",
       "}\n",
       "\n",
       "#sk-container-id-1 label.sk-toggleable__label-arrow:before {\n",
       "  /* Arrow on the left of the label */\n",
       "  content: \"▸\";\n",
       "  float: left;\n",
       "  margin-right: 0.25em;\n",
       "  color: var(--sklearn-color-icon);\n",
       "}\n",
       "\n",
       "#sk-container-id-1 label.sk-toggleable__label-arrow:hover:before {\n",
       "  color: var(--sklearn-color-text);\n",
       "}\n",
       "\n",
       "/* Toggleable content - dropdown */\n",
       "\n",
       "#sk-container-id-1 div.sk-toggleable__content {\n",
       "  max-height: 0;\n",
       "  max-width: 0;\n",
       "  overflow: hidden;\n",
       "  text-align: left;\n",
       "  /* unfitted */\n",
       "  background-color: var(--sklearn-color-unfitted-level-0);\n",
       "}\n",
       "\n",
       "#sk-container-id-1 div.sk-toggleable__content.fitted {\n",
       "  /* fitted */\n",
       "  background-color: var(--sklearn-color-fitted-level-0);\n",
       "}\n",
       "\n",
       "#sk-container-id-1 div.sk-toggleable__content pre {\n",
       "  margin: 0.2em;\n",
       "  border-radius: 0.25em;\n",
       "  color: var(--sklearn-color-text);\n",
       "  /* unfitted */\n",
       "  background-color: var(--sklearn-color-unfitted-level-0);\n",
       "}\n",
       "\n",
       "#sk-container-id-1 div.sk-toggleable__content.fitted pre {\n",
       "  /* unfitted */\n",
       "  background-color: var(--sklearn-color-fitted-level-0);\n",
       "}\n",
       "\n",
       "#sk-container-id-1 input.sk-toggleable__control:checked~div.sk-toggleable__content {\n",
       "  /* Expand drop-down */\n",
       "  max-height: 200px;\n",
       "  max-width: 100%;\n",
       "  overflow: auto;\n",
       "}\n",
       "\n",
       "#sk-container-id-1 input.sk-toggleable__control:checked~label.sk-toggleable__label-arrow:before {\n",
       "  content: \"▾\";\n",
       "}\n",
       "\n",
       "/* Pipeline/ColumnTransformer-specific style */\n",
       "\n",
       "#sk-container-id-1 div.sk-label input.sk-toggleable__control:checked~label.sk-toggleable__label {\n",
       "  color: var(--sklearn-color-text);\n",
       "  background-color: var(--sklearn-color-unfitted-level-2);\n",
       "}\n",
       "\n",
       "#sk-container-id-1 div.sk-label.fitted input.sk-toggleable__control:checked~label.sk-toggleable__label {\n",
       "  background-color: var(--sklearn-color-fitted-level-2);\n",
       "}\n",
       "\n",
       "/* Estimator-specific style */\n",
       "\n",
       "/* Colorize estimator box */\n",
       "#sk-container-id-1 div.sk-estimator input.sk-toggleable__control:checked~label.sk-toggleable__label {\n",
       "  /* unfitted */\n",
       "  background-color: var(--sklearn-color-unfitted-level-2);\n",
       "}\n",
       "\n",
       "#sk-container-id-1 div.sk-estimator.fitted input.sk-toggleable__control:checked~label.sk-toggleable__label {\n",
       "  /* fitted */\n",
       "  background-color: var(--sklearn-color-fitted-level-2);\n",
       "}\n",
       "\n",
       "#sk-container-id-1 div.sk-label label.sk-toggleable__label,\n",
       "#sk-container-id-1 div.sk-label label {\n",
       "  /* The background is the default theme color */\n",
       "  color: var(--sklearn-color-text-on-default-background);\n",
       "}\n",
       "\n",
       "/* On hover, darken the color of the background */\n",
       "#sk-container-id-1 div.sk-label:hover label.sk-toggleable__label {\n",
       "  color: var(--sklearn-color-text);\n",
       "  background-color: var(--sklearn-color-unfitted-level-2);\n",
       "}\n",
       "\n",
       "/* Label box, darken color on hover, fitted */\n",
       "#sk-container-id-1 div.sk-label.fitted:hover label.sk-toggleable__label.fitted {\n",
       "  color: var(--sklearn-color-text);\n",
       "  background-color: var(--sklearn-color-fitted-level-2);\n",
       "}\n",
       "\n",
       "/* Estimator label */\n",
       "\n",
       "#sk-container-id-1 div.sk-label label {\n",
       "  font-family: monospace;\n",
       "  font-weight: bold;\n",
       "  display: inline-block;\n",
       "  line-height: 1.2em;\n",
       "}\n",
       "\n",
       "#sk-container-id-1 div.sk-label-container {\n",
       "  text-align: center;\n",
       "}\n",
       "\n",
       "/* Estimator-specific */\n",
       "#sk-container-id-1 div.sk-estimator {\n",
       "  font-family: monospace;\n",
       "  border: 1px dotted var(--sklearn-color-border-box);\n",
       "  border-radius: 0.25em;\n",
       "  box-sizing: border-box;\n",
       "  margin-bottom: 0.5em;\n",
       "  /* unfitted */\n",
       "  background-color: var(--sklearn-color-unfitted-level-0);\n",
       "}\n",
       "\n",
       "#sk-container-id-1 div.sk-estimator.fitted {\n",
       "  /* fitted */\n",
       "  background-color: var(--sklearn-color-fitted-level-0);\n",
       "}\n",
       "\n",
       "/* on hover */\n",
       "#sk-container-id-1 div.sk-estimator:hover {\n",
       "  /* unfitted */\n",
       "  background-color: var(--sklearn-color-unfitted-level-2);\n",
       "}\n",
       "\n",
       "#sk-container-id-1 div.sk-estimator.fitted:hover {\n",
       "  /* fitted */\n",
       "  background-color: var(--sklearn-color-fitted-level-2);\n",
       "}\n",
       "\n",
       "/* Specification for estimator info (e.g. \"i\" and \"?\") */\n",
       "\n",
       "/* Common style for \"i\" and \"?\" */\n",
       "\n",
       ".sk-estimator-doc-link,\n",
       "a:link.sk-estimator-doc-link,\n",
       "a:visited.sk-estimator-doc-link {\n",
       "  float: right;\n",
       "  font-size: smaller;\n",
       "  line-height: 1em;\n",
       "  font-family: monospace;\n",
       "  background-color: var(--sklearn-color-background);\n",
       "  border-radius: 1em;\n",
       "  height: 1em;\n",
       "  width: 1em;\n",
       "  text-decoration: none !important;\n",
       "  margin-left: 1ex;\n",
       "  /* unfitted */\n",
       "  border: var(--sklearn-color-unfitted-level-1) 1pt solid;\n",
       "  color: var(--sklearn-color-unfitted-level-1);\n",
       "}\n",
       "\n",
       ".sk-estimator-doc-link.fitted,\n",
       "a:link.sk-estimator-doc-link.fitted,\n",
       "a:visited.sk-estimator-doc-link.fitted {\n",
       "  /* fitted */\n",
       "  border: var(--sklearn-color-fitted-level-1) 1pt solid;\n",
       "  color: var(--sklearn-color-fitted-level-1);\n",
       "}\n",
       "\n",
       "/* On hover */\n",
       "div.sk-estimator:hover .sk-estimator-doc-link:hover,\n",
       ".sk-estimator-doc-link:hover,\n",
       "div.sk-label-container:hover .sk-estimator-doc-link:hover,\n",
       ".sk-estimator-doc-link:hover {\n",
       "  /* unfitted */\n",
       "  background-color: var(--sklearn-color-unfitted-level-3);\n",
       "  color: var(--sklearn-color-background);\n",
       "  text-decoration: none;\n",
       "}\n",
       "\n",
       "div.sk-estimator.fitted:hover .sk-estimator-doc-link.fitted:hover,\n",
       ".sk-estimator-doc-link.fitted:hover,\n",
       "div.sk-label-container:hover .sk-estimator-doc-link.fitted:hover,\n",
       ".sk-estimator-doc-link.fitted:hover {\n",
       "  /* fitted */\n",
       "  background-color: var(--sklearn-color-fitted-level-3);\n",
       "  color: var(--sklearn-color-background);\n",
       "  text-decoration: none;\n",
       "}\n",
       "\n",
       "/* Span, style for the box shown on hovering the info icon */\n",
       ".sk-estimator-doc-link span {\n",
       "  display: none;\n",
       "  z-index: 9999;\n",
       "  position: relative;\n",
       "  font-weight: normal;\n",
       "  right: .2ex;\n",
       "  padding: .5ex;\n",
       "  margin: .5ex;\n",
       "  width: min-content;\n",
       "  min-width: 20ex;\n",
       "  max-width: 50ex;\n",
       "  color: var(--sklearn-color-text);\n",
       "  box-shadow: 2pt 2pt 4pt #999;\n",
       "  /* unfitted */\n",
       "  background: var(--sklearn-color-unfitted-level-0);\n",
       "  border: .5pt solid var(--sklearn-color-unfitted-level-3);\n",
       "}\n",
       "\n",
       ".sk-estimator-doc-link.fitted span {\n",
       "  /* fitted */\n",
       "  background: var(--sklearn-color-fitted-level-0);\n",
       "  border: var(--sklearn-color-fitted-level-3);\n",
       "}\n",
       "\n",
       ".sk-estimator-doc-link:hover span {\n",
       "  display: block;\n",
       "}\n",
       "\n",
       "/* \"?\"-specific style due to the `<a>` HTML tag */\n",
       "\n",
       "#sk-container-id-1 a.estimator_doc_link {\n",
       "  float: right;\n",
       "  font-size: 1rem;\n",
       "  line-height: 1em;\n",
       "  font-family: monospace;\n",
       "  background-color: var(--sklearn-color-background);\n",
       "  border-radius: 1rem;\n",
       "  height: 1rem;\n",
       "  width: 1rem;\n",
       "  text-decoration: none;\n",
       "  /* unfitted */\n",
       "  color: var(--sklearn-color-unfitted-level-1);\n",
       "  border: var(--sklearn-color-unfitted-level-1) 1pt solid;\n",
       "}\n",
       "\n",
       "#sk-container-id-1 a.estimator_doc_link.fitted {\n",
       "  /* fitted */\n",
       "  border: var(--sklearn-color-fitted-level-1) 1pt solid;\n",
       "  color: var(--sklearn-color-fitted-level-1);\n",
       "}\n",
       "\n",
       "/* On hover */\n",
       "#sk-container-id-1 a.estimator_doc_link:hover {\n",
       "  /* unfitted */\n",
       "  background-color: var(--sklearn-color-unfitted-level-3);\n",
       "  color: var(--sklearn-color-background);\n",
       "  text-decoration: none;\n",
       "}\n",
       "\n",
       "#sk-container-id-1 a.estimator_doc_link.fitted:hover {\n",
       "  /* fitted */\n",
       "  background-color: var(--sklearn-color-fitted-level-3);\n",
       "}\n",
       "</style><div id=\"sk-container-id-1\" class=\"sk-top-container\"><div class=\"sk-text-repr-fallback\"><pre>KMeans(n_clusters=7, random_state=42)</pre><b>In a Jupyter environment, please rerun this cell to show the HTML representation or trust the notebook. <br />On GitHub, the HTML representation is unable to render, please try loading this page with nbviewer.org.</b></div><div class=\"sk-container\" hidden><div class=\"sk-item\"><div class=\"sk-estimator fitted sk-toggleable\"><input class=\"sk-toggleable__control sk-hidden--visually\" id=\"sk-estimator-id-1\" type=\"checkbox\" checked><label for=\"sk-estimator-id-1\" class=\"sk-toggleable__label fitted sk-toggleable__label-arrow fitted\">&nbsp;&nbsp;KMeans<a class=\"sk-estimator-doc-link fitted\" rel=\"noreferrer\" target=\"_blank\" href=\"https://scikit-learn.org/1.4/modules/generated/sklearn.cluster.KMeans.html\">?<span>Documentation for KMeans</span></a><span class=\"sk-estimator-doc-link fitted\">i<span>Fitted</span></span></label><div class=\"sk-toggleable__content fitted\"><pre>KMeans(n_clusters=7, random_state=42)</pre></div> </div></div></div></div>"
      ],
      "text/plain": [
       "KMeans(n_clusters=7, random_state=42)"
      ]
     },
     "execution_count": 14,
     "metadata": {},
     "output_type": "execute_result"
    }
   ],
   "source": [
    "# Perform KMeans clustering with K = 7\n",
    "kmeans = KMeans(n_clusters=7, random_state=42)\n",
    "kmeans.fit(df_norm)"
   ]
  },
  {
   "cell_type": "code",
   "execution_count": 15,
   "id": "8c60248e-da98-4958-94f7-da563b38457d",
   "metadata": {},
   "outputs": [],
   "source": [
    "# Get the cluster centroids\n",
    "cluster_centroids = kmeans.cluster_centers_"
   ]
  },
  {
   "cell_type": "code",
   "execution_count": 16,
   "id": "212ec4c6-6b05-43ec-a246-7dba4ce4c3e6",
   "metadata": {},
   "outputs": [],
   "source": [
    "# Convert centroids to a DataFrame for better readability\n",
    "centroids_df = pd.DataFrame(cluster_centroids, columns=df_norm.columns)"
   ]
  },
  {
   "cell_type": "code",
   "execution_count": 17,
   "id": "7f011103-7787-4f27-a2ab-a2781daedced",
   "metadata": {},
   "outputs": [],
   "source": [
    "cluster_centroids = pd.DataFrame(scaler.inverse_transform(kmeans.cluster_centers_), columns=df_names.values.flatten())"
   ]
  },
  {
   "cell_type": "code",
   "execution_count": 18,
   "id": "a23aef2b-65d7-40ae-8ef0-34a9ed1f4526",
   "metadata": {},
   "outputs": [
    {
     "name": "stdout",
     "output_type": "stream",
     "text": [
      "Cluster Centroids:\n",
      "      0      1      2      3      4      5      6      7      8      9      10     11     12     13     14     15     16     17     18\n",
      "0 0.5140 0.8089 0.0000 0.0774 0.0051 0.0545 0.0014 0.0463 0.0014 0.1088 0.0914 0.0924 0.1427 0.6792 0.0790 0.8213 0.1349 0.4145 0.8923\n",
      "1 0.5351 0.1502 0.0000 0.0278 0.0017 0.0302 0.0005 0.0268 0.0006 0.8232 0.7797 0.8942 0.7888 0.2707 0.6664 0.2894 0.8942 0.2118 0.1251\n",
      "2 0.3025 0.5309 0.0000 0.0523 0.0466 0.1008 0.0094 0.0840 0.0110 0.4006 0.3703 0.4725 0.3530 0.4971 0.5709 0.2131 0.4725 0.3023 0.1639\n",
      "3 0.2512 0.3934 0.0000 0.0754 0.0193 0.0780 0.0044 0.0623 0.0053 0.1473 0.1374 0.1842 0.1175 0.7184 0.3436 0.3547 0.1845 0.4141 0.2028\n",
      "4 0.7483 0.5320 0.0000 0.0392 0.0377 0.1135 0.0189 0.1073 0.0176 0.2986 0.2775 0.3501 0.2638 0.5933 0.4492 0.3115 0.3502 0.3030 0.1644\n",
      "5 0.7691 0.4259 0.0000 0.0140 0.0227 0.0397 0.0030 0.0231 0.0021 0.0404 0.0344 0.0574 0.0281 0.7799 0.2228 0.4869 0.0584 0.5392 0.2450\n",
      "6 0.2542 0.4594 0.0000 0.0264 0.0138 0.0368 0.0020 0.0266 0.0017 0.0257 0.0175 0.0420 0.0162 0.7693 0.2160 0.5086 0.0429 0.8032 0.1804\n"
     ]
    }
   ],
   "source": [
    "# Print formatted centroids\n",
    "print(\"Cluster Centroids:\")\n",
    "print(centroids_df.to_string(float_format=\"{:.4f}\".format))"
   ]
  },
  {
   "cell_type": "code",
   "execution_count": 19,
   "id": "e79c3d19-d768-47cc-81ec-c5621b2b2960",
   "metadata": {},
   "outputs": [
    {
     "data": {
      "text/html": [
       "<div>\n",
       "<style scoped>\n",
       "    .dataframe tbody tr th:only-of-type {\n",
       "        vertical-align: middle;\n",
       "    }\n",
       "\n",
       "    .dataframe tbody tr th {\n",
       "        vertical-align: top;\n",
       "    }\n",
       "\n",
       "    .dataframe thead th {\n",
       "        text-align: right;\n",
       "    }\n",
       "</style>\n",
       "<table border=\"1\" class=\"dataframe\">\n",
       "  <thead>\n",
       "    <tr style=\"text-align: right;\">\n",
       "      <th></th>\n",
       "      <th>REGION-CENTROID-COL</th>\n",
       "      <th>REGION-CENTROID-ROW</th>\n",
       "      <th>REGION-PIXEL-COUNT</th>\n",
       "      <th>SHORT-LINE-DENSITY-5</th>\n",
       "      <th>SHORT-LINE-DENSITY-2</th>\n",
       "      <th>VEDGE-MEAN</th>\n",
       "      <th>VEDGE-SD</th>\n",
       "      <th>HEDGE-MEAN</th>\n",
       "      <th>HEDGE-SD</th>\n",
       "      <th>INTENSITY-MEAN</th>\n",
       "      <th>RAWRED-MEAN</th>\n",
       "      <th>RAWBLUE-MEAN</th>\n",
       "      <th>RAWGREEN-MEAN</th>\n",
       "      <th>EXRED-MEAN</th>\n",
       "      <th>EXBLUE-MEAN</th>\n",
       "      <th>EXGREEN-MEAN</th>\n",
       "      <th>VALUE-MEAN</th>\n",
       "      <th>SATURATION-MEAN</th>\n",
       "      <th>HUE-MEAN</th>\n",
       "    </tr>\n",
       "  </thead>\n",
       "  <tbody>\n",
       "    <tr>\n",
       "      <th>0</th>\n",
       "      <td>131.040404</td>\n",
       "      <td>205.144781</td>\n",
       "      <td>9.0</td>\n",
       "      <td>0.025814</td>\n",
       "      <td>0.001122</td>\n",
       "      <td>1.591844</td>\n",
       "      <td>1.395540</td>\n",
       "      <td>2.072203</td>\n",
       "      <td>1.942208</td>\n",
       "      <td>15.605312</td>\n",
       "      <td>12.532361</td>\n",
       "      <td>13.944258</td>\n",
       "      <td>20.339319</td>\n",
       "      <td>-9.218855</td>\n",
       "      <td>-4.983165</td>\n",
       "      <td>14.202020</td>\n",
       "      <td>20.355032</td>\n",
       "      <td>0.414491</td>\n",
       "      <td>2.271143</td>\n",
       "    </tr>\n",
       "    <tr>\n",
       "      <th>1</th>\n",
       "      <td>136.380000</td>\n",
       "      <td>47.040000</td>\n",
       "      <td>9.0</td>\n",
       "      <td>0.009259</td>\n",
       "      <td>0.000370</td>\n",
       "      <td>0.883333</td>\n",
       "      <td>0.538392</td>\n",
       "      <td>1.197037</td>\n",
       "      <td>0.813307</td>\n",
       "      <td>118.090124</td>\n",
       "      <td>106.907778</td>\n",
       "      <td>134.920373</td>\n",
       "      <td>112.442223</td>\n",
       "      <td>-33.547037</td>\n",
       "      <td>50.490741</td>\n",
       "      <td>-16.943704</td>\n",
       "      <td>134.920373</td>\n",
       "      <td>0.211804</td>\n",
       "      <td>-2.299201</td>\n",
       "    </tr>\n",
       "    <tr>\n",
       "      <th>2</th>\n",
       "      <td>77.533898</td>\n",
       "      <td>138.406780</td>\n",
       "      <td>9.0</td>\n",
       "      <td>0.017420</td>\n",
       "      <td>0.010358</td>\n",
       "      <td>2.946092</td>\n",
       "      <td>9.342202</td>\n",
       "      <td>3.755414</td>\n",
       "      <td>15.309615</td>\n",
       "      <td>57.465003</td>\n",
       "      <td>50.778719</td>\n",
       "      <td>71.289078</td>\n",
       "      <td>50.327213</td>\n",
       "      <td>-20.058851</td>\n",
       "      <td>41.472222</td>\n",
       "      <td>-21.413371</td>\n",
       "      <td>71.289078</td>\n",
       "      <td>0.302263</td>\n",
       "      <td>-2.068003</td>\n",
       "    </tr>\n",
       "    <tr>\n",
       "      <th>3</th>\n",
       "      <td>64.556548</td>\n",
       "      <td>105.407738</td>\n",
       "      <td>9.0</td>\n",
       "      <td>0.025132</td>\n",
       "      <td>0.004299</td>\n",
       "      <td>2.279597</td>\n",
       "      <td>4.399700</td>\n",
       "      <td>2.784226</td>\n",
       "      <td>7.413396</td>\n",
       "      <td>21.127425</td>\n",
       "      <td>18.833333</td>\n",
       "      <td>27.795304</td>\n",
       "      <td>16.753638</td>\n",
       "      <td>-6.882275</td>\n",
       "      <td>20.003638</td>\n",
       "      <td>-13.121362</td>\n",
       "      <td>27.842262</td>\n",
       "      <td>0.414107</td>\n",
       "      <td>-1.836332</td>\n",
       "    </tr>\n",
       "    <tr>\n",
       "      <th>4</th>\n",
       "      <td>190.313253</td>\n",
       "      <td>138.689759</td>\n",
       "      <td>9.0</td>\n",
       "      <td>0.013052</td>\n",
       "      <td>0.008367</td>\n",
       "      <td>3.317604</td>\n",
       "      <td>18.765677</td>\n",
       "      <td>4.799197</td>\n",
       "      <td>24.436824</td>\n",
       "      <td>42.828648</td>\n",
       "      <td>38.051205</td>\n",
       "      <td>52.823293</td>\n",
       "      <td>37.611446</td>\n",
       "      <td>-14.332329</td>\n",
       "      <td>29.983936</td>\n",
       "      <td>-15.651606</td>\n",
       "      <td>52.835676</td>\n",
       "      <td>0.303047</td>\n",
       "      <td>-2.065143</td>\n",
       "    </tr>\n",
       "    <tr>\n",
       "      <th>5</th>\n",
       "      <td>195.572816</td>\n",
       "      <td>113.223301</td>\n",
       "      <td>9.0</td>\n",
       "      <td>0.004675</td>\n",
       "      <td>0.005034</td>\n",
       "      <td>1.160194</td>\n",
       "      <td>2.957906</td>\n",
       "      <td>1.033801</td>\n",
       "      <td>2.903298</td>\n",
       "      <td>5.793000</td>\n",
       "      <td>4.720245</td>\n",
       "      <td>8.658756</td>\n",
       "      <td>4.000000</td>\n",
       "      <td>-3.218267</td>\n",
       "      <td>8.597267</td>\n",
       "      <td>-5.379000</td>\n",
       "      <td>8.806185</td>\n",
       "      <td>0.539152</td>\n",
       "      <td>-1.584866</td>\n",
       "    </tr>\n",
       "    <tr>\n",
       "      <th>6</th>\n",
       "      <td>65.300000</td>\n",
       "      <td>121.251724</td>\n",
       "      <td>9.0</td>\n",
       "      <td>0.008812</td>\n",
       "      <td>0.003065</td>\n",
       "      <td>1.075096</td>\n",
       "      <td>2.014409</td>\n",
       "      <td>1.190038</td>\n",
       "      <td>2.289403</td>\n",
       "      <td>3.684674</td>\n",
       "      <td>2.400766</td>\n",
       "      <td>6.337165</td>\n",
       "      <td>2.316092</td>\n",
       "      <td>-3.851724</td>\n",
       "      <td>7.957471</td>\n",
       "      <td>-4.105747</td>\n",
       "      <td>6.474713</td>\n",
       "      <td>0.803157</td>\n",
       "      <td>-1.969552</td>\n",
       "    </tr>\n",
       "  </tbody>\n",
       "</table>\n",
       "</div>"
      ],
      "text/plain": [
       "   REGION-CENTROID-COL  REGION-CENTROID-ROW  REGION-PIXEL-COUNT  \\\n",
       "0           131.040404           205.144781                 9.0   \n",
       "1           136.380000            47.040000                 9.0   \n",
       "2            77.533898           138.406780                 9.0   \n",
       "3            64.556548           105.407738                 9.0   \n",
       "4           190.313253           138.689759                 9.0   \n",
       "5           195.572816           113.223301                 9.0   \n",
       "6            65.300000           121.251724                 9.0   \n",
       "\n",
       "   SHORT-LINE-DENSITY-5  SHORT-LINE-DENSITY-2  VEDGE-MEAN   VEDGE-SD  \\\n",
       "0              0.025814              0.001122    1.591844   1.395540   \n",
       "1              0.009259              0.000370    0.883333   0.538392   \n",
       "2              0.017420              0.010358    2.946092   9.342202   \n",
       "3              0.025132              0.004299    2.279597   4.399700   \n",
       "4              0.013052              0.008367    3.317604  18.765677   \n",
       "5              0.004675              0.005034    1.160194   2.957906   \n",
       "6              0.008812              0.003065    1.075096   2.014409   \n",
       "\n",
       "   HEDGE-MEAN   HEDGE-SD  INTENSITY-MEAN  RAWRED-MEAN  RAWBLUE-MEAN  \\\n",
       "0    2.072203   1.942208       15.605312    12.532361     13.944258   \n",
       "1    1.197037   0.813307      118.090124   106.907778    134.920373   \n",
       "2    3.755414  15.309615       57.465003    50.778719     71.289078   \n",
       "3    2.784226   7.413396       21.127425    18.833333     27.795304   \n",
       "4    4.799197  24.436824       42.828648    38.051205     52.823293   \n",
       "5    1.033801   2.903298        5.793000     4.720245      8.658756   \n",
       "6    1.190038   2.289403        3.684674     2.400766      6.337165   \n",
       "\n",
       "   RAWGREEN-MEAN  EXRED-MEAN  EXBLUE-MEAN  EXGREEN-MEAN  VALUE-MEAN  \\\n",
       "0      20.339319   -9.218855    -4.983165     14.202020   20.355032   \n",
       "1     112.442223  -33.547037    50.490741    -16.943704  134.920373   \n",
       "2      50.327213  -20.058851    41.472222    -21.413371   71.289078   \n",
       "3      16.753638   -6.882275    20.003638    -13.121362   27.842262   \n",
       "4      37.611446  -14.332329    29.983936    -15.651606   52.835676   \n",
       "5       4.000000   -3.218267     8.597267     -5.379000    8.806185   \n",
       "6       2.316092   -3.851724     7.957471     -4.105747    6.474713   \n",
       "\n",
       "   SATURATION-MEAN  HUE-MEAN  \n",
       "0         0.414491  2.271143  \n",
       "1         0.211804 -2.299201  \n",
       "2         0.302263 -2.068003  \n",
       "3         0.414107 -1.836332  \n",
       "4         0.303047 -2.065143  \n",
       "5         0.539152 -1.584866  \n",
       "6         0.803157 -1.969552  "
      ]
     },
     "metadata": {},
     "output_type": "display_data"
    }
   ],
   "source": [
    "display(cluster_centroids)"
   ]
  },
  {
   "cell_type": "code",
   "execution_count": 20,
   "id": "ffeedeed-2cb9-483b-ab10-1aab8ece03ef",
   "metadata": {},
   "outputs": [],
   "source": [
    "cluster_labels = kmeans.fit_predict(df_norm)"
   ]
  },
  {
   "cell_type": "code",
   "execution_count": 21,
   "id": "55a6fcad-af6f-4f5e-91ec-e0fba23fd603",
   "metadata": {},
   "outputs": [],
   "source": [
    "from sklearn.metrics import silhouette_samples, silhouette_score\n",
    "import matplotlib.pyplot as plt"
   ]
  },
  {
   "cell_type": "code",
   "execution_count": 22,
   "id": "fed5c59d-260e-4b3f-8361-82310c257788",
   "metadata": {},
   "outputs": [
    {
     "data": {
      "text/plain": [
       "array([ 0.5723009 ,  0.56096434,  0.46537332, ..., -0.05409331,\n",
       "        0.13391168,  0.02319869])"
      ]
     },
     "execution_count": 22,
     "metadata": {},
     "output_type": "execute_result"
    }
   ],
   "source": [
    "# Compute Silhouette scores\n",
    "silhouette_vals = silhouette_samples(df_norm, cluster_labels)\n",
    "silhouette_vals"
   ]
  },
  {
   "cell_type": "code",
   "execution_count": 23,
   "id": "9b8ed99f-6199-43b3-ab7c-dc4dbfb5b5e7",
   "metadata": {},
   "outputs": [
    {
     "name": "stdout",
     "output_type": "stream",
     "text": [
      "Average Silhouette Score: 0.3320\n"
     ]
    }
   ],
   "source": [
    "#Compute average Silhouette score\n",
    "avg_silhouette_score = silhouette_score(df_norm, cluster_labels)\n",
    "print(f\"Average Silhouette Score: {avg_silhouette_score:.4f}\")"
   ]
  },
  {
   "cell_type": "code",
   "execution_count": 24,
   "id": "2add7539-4fbe-4334-aa1a-ab5c86f9c0d0",
   "metadata": {},
   "outputs": [],
   "source": [
    "#visualization\n",
    "from matplotlib import cm\n",
    "from sklearn.metrics import silhouette_samples\n",
    "import sklearn.metrics as metrics\n",
    "import pylab as pl\n",
    "\n",
    "#Now let's do the same with the Silhouette coeffiecients\n",
    "def plot_silhouettes(data, clusters, metric='euclidean'):\n",
    "    cluster_labels = np.unique(clusters)\n",
    "    n_clusters = cluster_labels.shape[0]\n",
    "    silhouette_vals = metrics.silhouette_samples(data, clusters, metric='euclidean')\n",
    "    c_ax_lower, c_ax_upper = 0, 0\n",
    "    cticks = []\n",
    "    for i, k in enumerate(cluster_labels):\n",
    "        c_silhouette_vals = silhouette_vals[clusters == k]\n",
    "        c_silhouette_vals.sort()\n",
    "        c_ax_upper += len(c_silhouette_vals)\n",
    "        color = cm.jet(float(i) / n_clusters)\n",
    "        pl.barh(range(c_ax_lower, c_ax_upper), c_silhouette_vals, height=1.0, \n",
    "                      edgecolor='none', color=color)\n",
    "\n",
    "        cticks.append((c_ax_lower + c_ax_upper) / 2)\n",
    "        c_ax_lower += len(c_silhouette_vals)\n",
    "    \n",
    "    silhouette_avg = np.mean(silhouette_vals)\n",
    "    print(\"The average silhouette value is: \",str(silhouette_avg))\n",
    "    pl.axvline(silhouette_avg, color=\"red\", linestyle=\"--\") \n",
    "\n",
    "    pl.yticks(cticks, cluster_labels)\n",
    "    pl.ylabel('Cluster')\n",
    "    pl.xlabel('Silhouette coefficient')\n",
    "\n",
    "    pl.tight_layout()\n",
    "    #pl.savefig('images/11_04.png', dpi=300)\n",
    "    pl.show()\n",
    "    \n",
    "    return"
   ]
  },
  {
   "cell_type": "code",
   "execution_count": 25,
   "id": "b3a052b5-e048-4ca3-9956-0a941548a062",
   "metadata": {},
   "outputs": [
    {
     "name": "stdout",
     "output_type": "stream",
     "text": [
      "The average silhouette value is:  0.3320233761933512\n"
     ]
    },
    {
     "data": {
      "image/png": "[encoded data removed]",
      "text/plain": [
       "<Figure size 640x480 with 1 Axes>"
      ]
     },
     "metadata": {},
     "output_type": "display_data"
    }
   ],
   "source": [
    "clusters = kmeans.predict(df_norm)\n",
    "plot_silhouettes(df_norm,clusters)"
   ]
  },
  {
   "cell_type": "code",
   "execution_count": 26,
   "id": "dd58e11e-ab7b-4b8a-be1d-a66861ba75ec",
   "metadata": {},
   "outputs": [],
   "source": [
    "from sklearn.metrics import completeness_score, homogeneity_score"
   ]
  },
  {
   "cell_type": "code",
   "execution_count": 27,
   "id": "ac87cfa3-4660-4a68-81f8-40614f0143eb",
   "metadata": {},
   "outputs": [
    {
     "name": "stdout",
     "output_type": "stream",
     "text": [
      "Completeness: 0.6117\n",
      "Homogeneity: 0.6100\n"
     ]
    }
   ],
   "source": [
    "# Compute Completeness and Homogeneity\n",
    "completeness = completeness_score(df_classes.iloc[:,1], kmeans.labels_)\n",
    "homogeneity = homogeneity_score(df_classes.iloc[:,1], kmeans.labels_)\n",
    "\n",
    "# Print the results\n",
    "print(f\"Completeness: {completeness:.4f}\")\n",
    "print(f\"Homogeneity: {homogeneity:.4f}\")"
   ]
  },
  {
   "cell_type": "markdown",
   "id": "c58184cf-9a57-4d8b-8fa0-b2377268bfaa",
   "metadata": {},
   "source": [
    "## c.\t[10 pts] Do your own experiments with the number of clusters to see if a different value of K results in more cohesive clustering based on Silhouette analysis. Please do not provide all your clustering results, but you should include the best result according to your analysis and provide a brief discussion of why this particular clustering was selected.\n"
   ]
  },
  {
   "cell_type": "code",
   "execution_count": 29,
   "id": "d6aef439-ba52-47b1-9d67-9f3c845ff7ac",
   "metadata": {},
   "outputs": [
    {
     "name": "stdout",
     "output_type": "stream",
     "text": [
      "The number of clusters is:  2\n",
      "The average silhouette value is:  0.46368935319705523\n"
     ]
    },
    {
     "data": {
      "image/png": "[encoded data removed]",
      "text/plain": [
       "<Figure size 640x480 with 1 Axes>"
      ]
     },
     "metadata": {},
     "output_type": "display_data"
    },
    {
     "name": "stdout",
     "output_type": "stream",
     "text": [
      "The number of clusters is:  3\n",
      "The average silhouette value is:  0.36132024376217237\n"
     ]
    },
    {
     "data": {
      "image/png": "[encoded data removed]",
      "text/plain": [
       "<Figure size 640x480 with 1 Axes>"
      ]
     },
     "metadata": {},
     "output_type": "display_data"
    },
    {
     "name": "stdout",
     "output_type": "stream",
     "text": [
      "The number of clusters is:  4\n",
      "The average silhouette value is:  0.3814325870077951\n"
     ]
    },
    {
     "data": {
      "image/png": "[encoded data removed]",
      "text/plain": [
       "<Figure size 640x480 with 1 Axes>"
      ]
     },
     "metadata": {},
     "output_type": "display_data"
    },
    {
     "name": "stdout",
     "output_type": "stream",
     "text": [
      "The number of clusters is:  5\n",
      "The average silhouette value is:  0.32326828118486567\n"
     ]
    },
    {
     "data": {
      "image/png": "[encoded data removed]",
      "text/plain": [
       "<Figure size 640x480 with 1 Axes>"
      ]
     },
     "metadata": {},
     "output_type": "display_data"
    },
    {
     "name": "stdout",
     "output_type": "stream",
     "text": [
      "The number of clusters is:  6\n",
      "The average silhouette value is:  0.28353865044217264\n"
     ]
    },
    {
     "data": {
      "image/png": "[encoded data removed]",
      "text/plain": [
       "<Figure size 640x480 with 1 Axes>"
      ]
     },
     "metadata": {},
     "output_type": "display_data"
    },
    {
     "name": "stdout",
     "output_type": "stream",
     "text": [
      "The number of clusters is:  7\n",
      "The average silhouette value is:  0.25743204265301706\n"
     ]
    },
    {
     "data": {
      "image/png": "[encoded data removed]",
      "text/plain": [
       "<Figure size 640x480 with 1 Axes>"
      ]
     },
     "metadata": {},
     "output_type": "display_data"
    },
    {
     "name": "stdout",
     "output_type": "stream",
     "text": [
      "The number of clusters is:  8\n",
      "The average silhouette value is:  0.2922932396630831\n"
     ]
    },
    {
     "data": {
      "image/png": "[encoded data removed]",
      "text/plain": [
       "<Figure size 640x480 with 1 Axes>"
      ]
     },
     "metadata": {},
     "output_type": "display_data"
    },
    {
     "name": "stdout",
     "output_type": "stream",
     "text": [
      "The number of clusters is:  9\n",
      "The average silhouette value is:  0.29464338574399285\n"
     ]
    },
    {
     "data": {
      "image/png": "[encoded data removed]",
      "text/plain": [
       "<Figure size 640x480 with 1 Axes>"
      ]
     },
     "metadata": {},
     "output_type": "display_data"
    },
    {
     "name": "stdout",
     "output_type": "stream",
     "text": [
      "The number of clusters is:  10\n",
      "The average silhouette value is:  0.28848065288253577\n"
     ]
    },
    {
     "data": {
      "image/png": "[encoded data removed]",
      "text/plain": [
       "<Figure size 640x480 with 1 Axes>"
      ]
     },
     "metadata": {},
     "output_type": "display_data"
    }
   ],
   "source": [
    "for k in range(2, 11):\n",
    "    kmeans = KMeans(n_clusters=k, random_state=0)\n",
    "    kmeans.fit(df_norm)\n",
    "    clusters = kmeans.predict(df_norm)\n",
    "    print(\"The number of clusters is: \",str(k))\n",
    "    plot_silhouettes(df_norm,clusters)"
   ]
  },
  {
   "cell_type": "code",
   "execution_count": 30,
   "id": "2d28b564-1b21-4b1d-bf05-96535429dc67",
   "metadata": {},
   "outputs": [
    {
     "name": "stdout",
     "output_type": "stream",
     "text": [
      "The best number was chosen based on the heighest average silhouette value\n",
      "The number of clusters is:  2  \n",
      "The average silhouette value is:  0.46368935319705523\n"
     ]
    }
   ],
   "source": [
    "print(\"The best number was chosen based on the heighest average silhouette value\")\n",
    "print(\"The number of clusters is:  2 \"+\" \\n\"+\"The average silhouette value is:  0.46368935319705523\")"
   ]
  },
  {
   "cell_type": "markdown",
   "id": "299920be-9632-4ea4-ba19-74cf20c1779d",
   "metadata": {},
   "source": [
    "## d.\t[10 pts] Perform PCA on the normalized image data matrix. You may use the linear algebra package in Numpy or the Decomposition module in scikit-learn (the latter is much more efficient). Analyze the principal components to determine the number, r, of PCs needed to capture at least 95% of variance in the data. Provide a Scree plot of PC variances. Then use these r components as features to transform the data into a reduced dimension space.\n"
   ]
  },
  {
   "cell_type": "code",
   "execution_count": 32,
   "id": "cf57f12c-b999-4d74-8af9-fc286f30dd0c",
   "metadata": {},
   "outputs": [],
   "source": [
    "# Step 1: Perform PCA using NumPy\n",
    "X = df_norm.values\n",
    "mean = np.mean(X, axis=0)\n",
    "X_centered = X - mean\n",
    "cov_matrix = np.cov(X_centered, rowvar=False)\n",
    "eigenvalues, eigenvectors = np.linalg.eig(cov_matrix)"
   ]
  },
  {
   "cell_type": "code",
   "execution_count": 33,
   "id": "c9127f4e-c5a2-4ad3-a8c1-42f5d55df5df",
   "metadata": {},
   "outputs": [],
   "source": [
    "# Sort eigenvalues and eigenvectors in descending order\n",
    "idx = eigenvalues.argsort()[::-1]\n",
    "eigenvalues = eigenvalues[idx]\n",
    "eigenvectors = eigenvectors[:, idx]"
   ]
  },
  {
   "cell_type": "code",
   "execution_count": 34,
   "id": "a3ee3685-67c0-448c-bbee-1a9c2445ca33",
   "metadata": {},
   "outputs": [],
   "source": [
    "# Step 2: Analyze principal components\n",
    "total_variance = np.sum(eigenvalues)\n",
    "explained_variance_ratio = eigenvalues / total_variance\n",
    "cumulative_variance_ratio = np.cumsum(explained_variance_ratio)"
   ]
  },
  {
   "cell_type": "code",
   "execution_count": 35,
   "id": "16e85015-a52f-447b-9712-69473eaa825e",
   "metadata": {},
   "outputs": [
    {
     "name": "stdout",
     "output_type": "stream",
     "text": [
      "Number of PCs needed for 95% variance: 7\n"
     ]
    }
   ],
   "source": [
    "# Determine number of PCs needed for 95% variance\n",
    "r = np.argmax(cumulative_variance_ratio >= 0.95) + 1\n",
    "print(f\"Number of PCs needed for 95% variance: {r}\")"
   ]
  },
  {
   "cell_type": "code",
   "execution_count": 36,
   "id": "283843fe-3b0d-4e2a-99f3-47d6272e8380",
   "metadata": {},
   "outputs": [
    {
     "data": {
      "image/png": "[encoded data removed]",
      "text/plain": [
       "<Figure size 1000x600 with 1 Axes>"
      ]
     },
     "metadata": {},
     "output_type": "display_data"
    }
   ],
   "source": [
    "# Step 3: Create Scree plot\n",
    "plt.figure(figsize=(10, 6))\n",
    "plt.plot(range(1, len(eigenvalues) + 1), eigenvalues, 'bo-')\n",
    "plt.title('Scree Plot')\n",
    "plt.xlabel('Principal Component')\n",
    "plt.ylabel('Eigenvalue')\n",
    "plt.xticks(range(1, len(eigenvalues) + 1, 2))\n",
    "plt.grid(True)\n",
    "plt.show()"
   ]
  },
  {
   "cell_type": "code",
   "execution_count": 37,
   "id": "f87126af-d097-45be-8f40-8d57d1ee000d",
   "metadata": {},
   "outputs": [],
   "source": [
    "# Step 4: Transform data into reduced dimension space\n",
    "reduced_data = X_centered.dot(eigenvectors[:, :r])"
   ]
  },
  {
   "cell_type": "code",
   "execution_count": 38,
   "id": "7a864f21-d3c6-450a-8181-ce18bc723e9a",
   "metadata": {},
   "outputs": [
    {
     "name": "stdout",
     "output_type": "stream",
     "text": [
      "\n",
      "First few rows of the reduced dimension data:\n",
      "        PC1       PC2       PC3       PC4       PC5       PC6       PC7\n",
      "0 -0.689082 -0.532951 -0.246098  0.197812 -0.076433 -0.047804 -0.047321\n",
      "1 -0.666920 -0.510675 -0.337972  0.174381 -0.041178 -0.056551 -0.041707\n",
      "2 -0.712027 -0.770944  0.155822  0.009299 -0.166622 -0.043814 -0.060695\n",
      "3 -0.732419 -0.505378 -0.496928  0.056917 -0.144469 -0.026348 -0.097034\n",
      "4 -0.642317 -0.531329 -0.300672  0.177615 -0.018240 -0.054663 -0.055545\n"
     ]
    }
   ],
   "source": [
    "# Create a new dataframe with reduced dimensions\n",
    "columns = [f'PC{i+1}' for i in range(r)]\n",
    "df_reduced = pd.DataFrame(reduced_data, columns=columns)\n",
    "\n",
    "print(\"\\nFirst few rows of the reduced dimension data:\")\n",
    "print(df_reduced.head())"
   ]
  },
  {
   "cell_type": "code",
   "execution_count": 39,
   "id": "8c4cdb64-ad02-4607-b59d-fc96c2a1e0fa",
   "metadata": {},
   "outputs": [
    {
     "data": {
      "image/png": "[encoded data removed]",
      "text/plain": [
       "<Figure size 1000x600 with 1 Axes>"
      ]
     },
     "metadata": {},
     "output_type": "display_data"
    }
   ],
   "source": [
    "# Additional visualization: Cumulative explained variance\n",
    "plt.figure(figsize=(10, 6))\n",
    "plt.plot(range(1, len(cumulative_variance_ratio) + 1), cumulative_variance_ratio, 'bo-')\n",
    "plt.axhline(y=0.95, color='r', linestyle='--')\n",
    "plt.axvline(x=r, color='g', linestyle='--')\n",
    "plt.title('Cumulative Explained Variance Ratio')\n",
    "plt.xlabel('Number of Components')\n",
    "plt.ylabel('Cumulative Explained Variance')\n",
    "plt.grid(True)\n",
    "plt.show()"
   ]
  },
  {
   "cell_type": "markdown",
   "id": "65d2bef5-17bb-449f-8622-f7538645b94d",
   "metadata": {},
   "source": [
    "## e.\t[5 pts] Perform Kmeans again, but this time on the lower dimensional transformed data. Then compare Silhouette values as well as completeness and Homogeneity values of the new clusters. Compare these results with those obtained on the full data in part b.\n"
   ]
  },
  {
   "cell_type": "code",
   "execution_count": 41,
   "id": "07e5203d-86f6-4996-9818-9f6e246e163b",
   "metadata": {},
   "outputs": [
    {
     "data": {
      "text/html": [
       "<style>#sk-container-id-2 {\n",
       "  /* Definition of color scheme common for light and dark mode */\n",
       "  --sklearn-color-text: black;\n",
       "  --sklearn-color-line: gray;\n",
       "  /* Definition of color scheme for unfitted estimators */\n",
       "  --sklearn-color-unfitted-level-0: #fff5e6;\n",
       "  --sklearn-color-unfitted-level-1: #f6e4d2;\n",
       "  --sklearn-color-unfitted-level-2: #ffe0b3;\n",
       "  --sklearn-color-unfitted-level-3: chocolate;\n",
       "  /* Definition of color scheme for fitted estimators */\n",
       "  --sklearn-color-fitted-level-0: #f0f8ff;\n",
       "  --sklearn-color-fitted-level-1: #d4ebff;\n",
       "  --sklearn-color-fitted-level-2: #b3dbfd;\n",
       "  --sklearn-color-fitted-level-3: cornflowerblue;\n",
       "\n",
       "  /* Specific color for light theme */\n",
       "  --sklearn-color-text-on-default-background: var(--sg-text-color, var(--theme-code-foreground, var(--jp-content-font-color1, black)));\n",
       "  --sklearn-color-background: var(--sg-background-color, var(--theme-background, var(--jp-layout-color0, white)));\n",
       "  --sklearn-color-border-box: var(--sg-text-color, var(--theme-code-foreground, var(--jp-content-font-color1, black)));\n",
       "  --sklearn-color-icon: #696969;\n",
       "\n",
       "  @media (prefers-color-scheme: dark) {\n",
       "    /* Redefinition of color scheme for dark theme */\n",
       "    --sklearn-color-text-on-default-background: var(--sg-text-color, var(--theme-code-foreground, var(--jp-content-font-color1, white)));\n",
       "    --sklearn-color-background: var(--sg-background-color, var(--theme-background, var(--jp-layout-color0, #111)));\n",
       "    --sklearn-color-border-box: var(--sg-text-color, var(--theme-code-foreground, var(--jp-content-font-color1, white)));\n",
       "    --sklearn-color-icon: #878787;\n",
       "  }\n",
       "}\n",
       "\n",
       "#sk-container-id-2 {\n",
       "  color: var(--sklearn-color-text);\n",
       "}\n",
       "\n",
       "#sk-container-id-2 pre {\n",
       "  padding: 0;\n",
       "}\n",
       "\n",
       "#sk-container-id-2 input.sk-hidden--visually {\n",
       "  border: 0;\n",
       "  clip: rect(1px 1px 1px 1px);\n",
       "  clip: rect(1px, 1px, 1px, 1px);\n",
       "  height: 1px;\n",
       "  margin: -1px;\n",
       "  overflow: hidden;\n",
       "  padding: 0;\n",
       "  position: absolute;\n",
       "  width: 1px;\n",
       "}\n",
       "\n",
       "#sk-container-id-2 div.sk-dashed-wrapped {\n",
       "  border: 1px dashed var(--sklearn-color-line);\n",
       "  margin: 0 0.4em 0.5em 0.4em;\n",
       "  box-sizing: border-box;\n",
       "  padding-bottom: 0.4em;\n",
       "  background-color: var(--sklearn-color-background);\n",
       "}\n",
       "\n",
       "#sk-container-id-2 div.sk-container {\n",
       "  /* jupyter's `normalize.less` sets `[hidden] { display: none; }`\n",
       "     but bootstrap.min.css set `[hidden] { display: none !important; }`\n",
       "     so we also need the `!important` here to be able to override the\n",
       "     default hidden behavior on the sphinx rendered scikit-learn.org.\n",
       "     See: https://github.com/scikit-learn/scikit-learn/issues/21755 */\n",
       "  display: inline-block !important;\n",
       "  position: relative;\n",
       "}\n",
       "\n",
       "#sk-container-id-2 div.sk-text-repr-fallback {\n",
       "  display: none;\n",
       "}\n",
       "\n",
       "div.sk-parallel-item,\n",
       "div.sk-serial,\n",
       "div.sk-item {\n",
       "  /* draw centered vertical line to link estimators */\n",
       "  background-image: linear-gradient(var(--sklearn-color-text-on-default-background), var(--sklearn-color-text-on-default-background));\n",
       "  background-size: 2px 100%;\n",
       "  background-repeat: no-repeat;\n",
       "  background-position: center center;\n",
       "}\n",
       "\n",
       "/* Parallel-specific style estimator block */\n",
       "\n",
       "#sk-container-id-2 div.sk-parallel-item::after {\n",
       "  content: \"\";\n",
       "  width: 100%;\n",
       "  border-bottom: 2px solid var(--sklearn-color-text-on-default-background);\n",
       "  flex-grow: 1;\n",
       "}\n",
       "\n",
       "#sk-container-id-2 div.sk-parallel {\n",
       "  display: flex;\n",
       "  align-items: stretch;\n",
       "  justify-content: center;\n",
       "  background-color: var(--sklearn-color-background);\n",
       "  position: relative;\n",
       "}\n",
       "\n",
       "#sk-container-id-2 div.sk-parallel-item {\n",
       "  display: flex;\n",
       "  flex-direction: column;\n",
       "}\n",
       "\n",
       "#sk-container-id-2 div.sk-parallel-item:first-child::after {\n",
       "  align-self: flex-end;\n",
       "  width: 50%;\n",
       "}\n",
       "\n",
       "#sk-container-id-2 div.sk-parallel-item:last-child::after {\n",
       "  align-self: flex-start;\n",
       "  width: 50%;\n",
       "}\n",
       "\n",
       "#sk-container-id-2 div.sk-parallel-item:only-child::after {\n",
       "  width: 0;\n",
       "}\n",
       "\n",
       "/* Serial-specific style estimator block */\n",
       "\n",
       "#sk-container-id-2 div.sk-serial {\n",
       "  display: flex;\n",
       "  flex-direction: column;\n",
       "  align-items: center;\n",
       "  background-color: var(--sklearn-color-background);\n",
       "  padding-right: 1em;\n",
       "  padding-left: 1em;\n",
       "}\n",
       "\n",
       "\n",
       "/* Toggleable style: style used for estimator/Pipeline/ColumnTransformer box that is\n",
       "clickable and can be expanded/collapsed.\n",
       "- Pipeline and ColumnTransformer use this feature and define the default style\n",
       "- Estimators will overwrite some part of the style using the `sk-estimator` class\n",
       "*/\n",
       "\n",
       "/* Pipeline and ColumnTransformer style (default) */\n",
       "\n",
       "#sk-container-id-2 div.sk-toggleable {\n",
       "  /* Default theme specific background. It is overwritten whether we have a\n",
       "  specific estimator or a Pipeline/ColumnTransformer */\n",
       "  background-color: var(--sklearn-color-background);\n",
       "}\n",
       "\n",
       "/* Toggleable label */\n",
       "#sk-container-id-2 label.sk-toggleable__label {\n",
       "  cursor: pointer;\n",
       "  display: block;\n",
       "  width: 100%;\n",
       "  margin-bottom: 0;\n",
       "  padding: 0.5em;\n",
       "  box-sizing: border-box;\n",
       "  text-align: center;\n",
       "}\n",
       "\n",
       "#sk-container-id-2 label.sk-toggleable__label-arrow:before {\n",
       "  /* Arrow on the left of the label */\n",
       "  content: \"▸\";\n",
       "  float: left;\n",
       "  margin-right: 0.25em;\n",
       "  color: var(--sklearn-color-icon);\n",
       "}\n",
       "\n",
       "#sk-container-id-2 label.sk-toggleable__label-arrow:hover:before {\n",
       "  color: var(--sklearn-color-text);\n",
       "}\n",
       "\n",
       "/* Toggleable content - dropdown */\n",
       "\n",
       "#sk-container-id-2 div.sk-toggleable__content {\n",
       "  max-height: 0;\n",
       "  max-width: 0;\n",
       "  overflow: hidden;\n",
       "  text-align: left;\n",
       "  /* unfitted */\n",
       "  background-color: var(--sklearn-color-unfitted-level-0);\n",
       "}\n",
       "\n",
       "#sk-container-id-2 div.sk-toggleable__content.fitted {\n",
       "  /* fitted */\n",
       "  background-color: var(--sklearn-color-fitted-level-0);\n",
       "}\n",
       "\n",
       "#sk-container-id-2 div.sk-toggleable__content pre {\n",
       "  margin: 0.2em;\n",
       "  border-radius: 0.25em;\n",
       "  color: var(--sklearn-color-text);\n",
       "  /* unfitted */\n",
       "  background-color: var(--sklearn-color-unfitted-level-0);\n",
       "}\n",
       "\n",
       "#sk-container-id-2 div.sk-toggleable__content.fitted pre {\n",
       "  /* unfitted */\n",
       "  background-color: var(--sklearn-color-fitted-level-0);\n",
       "}\n",
       "\n",
       "#sk-container-id-2 input.sk-toggleable__control:checked~div.sk-toggleable__content {\n",
       "  /* Expand drop-down */\n",
       "  max-height: 200px;\n",
       "  max-width: 100%;\n",
       "  overflow: auto;\n",
       "}\n",
       "\n",
       "#sk-container-id-2 input.sk-toggleable__control:checked~label.sk-toggleable__label-arrow:before {\n",
       "  content: \"▾\";\n",
       "}\n",
       "\n",
       "/* Pipeline/ColumnTransformer-specific style */\n",
       "\n",
       "#sk-container-id-2 div.sk-label input.sk-toggleable__control:checked~label.sk-toggleable__label {\n",
       "  color: var(--sklearn-color-text);\n",
       "  background-color: var(--sklearn-color-unfitted-level-2);\n",
       "}\n",
       "\n",
       "#sk-container-id-2 div.sk-label.fitted input.sk-toggleable__control:checked~label.sk-toggleable__label {\n",
       "  background-color: var(--sklearn-color-fitted-level-2);\n",
       "}\n",
       "\n",
       "/* Estimator-specific style */\n",
       "\n",
       "/* Colorize estimator box */\n",
       "#sk-container-id-2 div.sk-estimator input.sk-toggleable__control:checked~label.sk-toggleable__label {\n",
       "  /* unfitted */\n",
       "  background-color: var(--sklearn-color-unfitted-level-2);\n",
       "}\n",
       "\n",
       "#sk-container-id-2 div.sk-estimator.fitted input.sk-toggleable__control:checked~label.sk-toggleable__label {\n",
       "  /* fitted */\n",
       "  background-color: var(--sklearn-color-fitted-level-2);\n",
       "}\n",
       "\n",
       "#sk-container-id-2 div.sk-label label.sk-toggleable__label,\n",
       "#sk-container-id-2 div.sk-label label {\n",
       "  /* The background is the default theme color */\n",
       "  color: var(--sklearn-color-text-on-default-background);\n",
       "}\n",
       "\n",
       "/* On hover, darken the color of the background */\n",
       "#sk-container-id-2 div.sk-label:hover label.sk-toggleable__label {\n",
       "  color: var(--sklearn-color-text);\n",
       "  background-color: var(--sklearn-color-unfitted-level-2);\n",
       "}\n",
       "\n",
       "/* Label box, darken color on hover, fitted */\n",
       "#sk-container-id-2 div.sk-label.fitted:hover label.sk-toggleable__label.fitted {\n",
       "  color: var(--sklearn-color-text);\n",
       "  background-color: var(--sklearn-color-fitted-level-2);\n",
       "}\n",
       "\n",
       "/* Estimator label */\n",
       "\n",
       "#sk-container-id-2 div.sk-label label {\n",
       "  font-family: monospace;\n",
       "  font-weight: bold;\n",
       "  display: inline-block;\n",
       "  line-height: 1.2em;\n",
       "}\n",
       "\n",
       "#sk-container-id-2 div.sk-label-container {\n",
       "  text-align: center;\n",
       "}\n",
       "\n",
       "/* Estimator-specific */\n",
       "#sk-container-id-2 div.sk-estimator {\n",
       "  font-family: monospace;\n",
       "  border: 1px dotted var(--sklearn-color-border-box);\n",
       "  border-radius: 0.25em;\n",
       "  box-sizing: border-box;\n",
       "  margin-bottom: 0.5em;\n",
       "  /* unfitted */\n",
       "  background-color: var(--sklearn-color-unfitted-level-0);\n",
       "}\n",
       "\n",
       "#sk-container-id-2 div.sk-estimator.fitted {\n",
       "  /* fitted */\n",
       "  background-color: var(--sklearn-color-fitted-level-0);\n",
       "}\n",
       "\n",
       "/* on hover */\n",
       "#sk-container-id-2 div.sk-estimator:hover {\n",
       "  /* unfitted */\n",
       "  background-color: var(--sklearn-color-unfitted-level-2);\n",
       "}\n",
       "\n",
       "#sk-container-id-2 div.sk-estimator.fitted:hover {\n",
       "  /* fitted */\n",
       "  background-color: var(--sklearn-color-fitted-level-2);\n",
       "}\n",
       "\n",
       "/* Specification for estimator info (e.g. \"i\" and \"?\") */\n",
       "\n",
       "/* Common style for \"i\" and \"?\" */\n",
       "\n",
       ".sk-estimator-doc-link,\n",
       "a:link.sk-estimator-doc-link,\n",
       "a:visited.sk-estimator-doc-link {\n",
       "  float: right;\n",
       "  font-size: smaller;\n",
       "  line-height: 1em;\n",
       "  font-family: monospace;\n",
       "  background-color: var(--sklearn-color-background);\n",
       "  border-radius: 1em;\n",
       "  height: 1em;\n",
       "  width: 1em;\n",
       "  text-decoration: none !important;\n",
       "  margin-left: 1ex;\n",
       "  /* unfitted */\n",
       "  border: var(--sklearn-color-unfitted-level-1) 1pt solid;\n",
       "  color: var(--sklearn-color-unfitted-level-1);\n",
       "}\n",
       "\n",
       ".sk-estimator-doc-link.fitted,\n",
       "a:link.sk-estimator-doc-link.fitted,\n",
       "a:visited.sk-estimator-doc-link.fitted {\n",
       "  /* fitted */\n",
       "  border: var(--sklearn-color-fitted-level-1) 1pt solid;\n",
       "  color: var(--sklearn-color-fitted-level-1);\n",
       "}\n",
       "\n",
       "/* On hover */\n",
       "div.sk-estimator:hover .sk-estimator-doc-link:hover,\n",
       ".sk-estimator-doc-link:hover,\n",
       "div.sk-label-container:hover .sk-estimator-doc-link:hover,\n",
       ".sk-estimator-doc-link:hover {\n",
       "  /* unfitted */\n",
       "  background-color: var(--sklearn-color-unfitted-level-3);\n",
       "  color: var(--sklearn-color-background);\n",
       "  text-decoration: none;\n",
       "}\n",
       "\n",
       "div.sk-estimator.fitted:hover .sk-estimator-doc-link.fitted:hover,\n",
       ".sk-estimator-doc-link.fitted:hover,\n",
       "div.sk-label-container:hover .sk-estimator-doc-link.fitted:hover,\n",
       ".sk-estimator-doc-link.fitted:hover {\n",
       "  /* fitted */\n",
       "  background-color: var(--sklearn-color-fitted-level-3);\n",
       "  color: var(--sklearn-color-background);\n",
       "  text-decoration: none;\n",
       "}\n",
       "\n",
       "/* Span, style for the box shown on hovering the info icon */\n",
       ".sk-estimator-doc-link span {\n",
       "  display: none;\n",
       "  z-index: 9999;\n",
       "  position: relative;\n",
       "  font-weight: normal;\n",
       "  right: .2ex;\n",
       "  padding: .5ex;\n",
       "  margin: .5ex;\n",
       "  width: min-content;\n",
       "  min-width: 20ex;\n",
       "  max-width: 50ex;\n",
       "  color: var(--sklearn-color-text);\n",
       "  box-shadow: 2pt 2pt 4pt #999;\n",
       "  /* unfitted */\n",
       "  background: var(--sklearn-color-unfitted-level-0);\n",
       "  border: .5pt solid var(--sklearn-color-unfitted-level-3);\n",
       "}\n",
       "\n",
       ".sk-estimator-doc-link.fitted span {\n",
       "  /* fitted */\n",
       "  background: var(--sklearn-color-fitted-level-0);\n",
       "  border: var(--sklearn-color-fitted-level-3);\n",
       "}\n",
       "\n",
       ".sk-estimator-doc-link:hover span {\n",
       "  display: block;\n",
       "}\n",
       "\n",
       "/* \"?\"-specific style due to the `<a>` HTML tag */\n",
       "\n",
       "#sk-container-id-2 a.estimator_doc_link {\n",
       "  float: right;\n",
       "  font-size: 1rem;\n",
       "  line-height: 1em;\n",
       "  font-family: monospace;\n",
       "  background-color: var(--sklearn-color-background);\n",
       "  border-radius: 1rem;\n",
       "  height: 1rem;\n",
       "  width: 1rem;\n",
       "  text-decoration: none;\n",
       "  /* unfitted */\n",
       "  color: var(--sklearn-color-unfitted-level-1);\n",
       "  border: var(--sklearn-color-unfitted-level-1) 1pt solid;\n",
       "}\n",
       "\n",
       "#sk-container-id-2 a.estimator_doc_link.fitted {\n",
       "  /* fitted */\n",
       "  border: var(--sklearn-color-fitted-level-1) 1pt solid;\n",
       "  color: var(--sklearn-color-fitted-level-1);\n",
       "}\n",
       "\n",
       "/* On hover */\n",
       "#sk-container-id-2 a.estimator_doc_link:hover {\n",
       "  /* unfitted */\n",
       "  background-color: var(--sklearn-color-unfitted-level-3);\n",
       "  color: var(--sklearn-color-background);\n",
       "  text-decoration: none;\n",
       "}\n",
       "\n",
       "#sk-container-id-2 a.estimator_doc_link.fitted:hover {\n",
       "  /* fitted */\n",
       "  background-color: var(--sklearn-color-fitted-level-3);\n",
       "}\n",
       "</style><div id=\"sk-container-id-2\" class=\"sk-top-container\"><div class=\"sk-text-repr-fallback\"><pre>KMeans(n_clusters=7, random_state=42)</pre><b>In a Jupyter environment, please rerun this cell to show the HTML representation or trust the notebook. <br />On GitHub, the HTML representation is unable to render, please try loading this page with nbviewer.org.</b></div><div class=\"sk-container\" hidden><div class=\"sk-item\"><div class=\"sk-estimator fitted sk-toggleable\"><input class=\"sk-toggleable__control sk-hidden--visually\" id=\"sk-estimator-id-2\" type=\"checkbox\" checked><label for=\"sk-estimator-id-2\" class=\"sk-toggleable__label fitted sk-toggleable__label-arrow fitted\">&nbsp;&nbsp;KMeans<a class=\"sk-estimator-doc-link fitted\" rel=\"noreferrer\" target=\"_blank\" href=\"https://scikit-learn.org/1.4/modules/generated/sklearn.cluster.KMeans.html\">?<span>Documentation for KMeans</span></a><span class=\"sk-estimator-doc-link fitted\">i<span>Fitted</span></span></label><div class=\"sk-toggleable__content fitted\"><pre>KMeans(n_clusters=7, random_state=42)</pre></div> </div></div></div></div>"
      ],
      "text/plain": [
       "KMeans(n_clusters=7, random_state=42)"
      ]
     },
     "execution_count": 41,
     "metadata": {},
     "output_type": "execute_result"
    }
   ],
   "source": [
    "# Perform KMeans clustering with K = 7\n",
    "kmeans = KMeans(n_clusters=7, random_state=42)\n",
    "kmeans.fit(df_reduced)"
   ]
  },
  {
   "cell_type": "code",
   "execution_count": 42,
   "id": "0835d3cd-febc-45fd-98eb-8298c7397412",
   "metadata": {},
   "outputs": [],
   "source": [
    "# Get the cluster centroids\n",
    "cluster_centroids = kmeans.cluster_centers_"
   ]
  },
  {
   "cell_type": "code",
   "execution_count": 43,
   "id": "992eb16b-2070-4a20-ac0d-71d8c07a70fc",
   "metadata": {},
   "outputs": [],
   "source": [
    "# Convert centroids to a DataFrame for better readability\n",
    "centroids_df = pd.DataFrame(cluster_centroids, columns=df_reduced.columns)"
   ]
  },
  {
   "cell_type": "code",
   "execution_count": 44,
   "id": "57c3b8f9-bfc2-4579-946d-2b15d315c797",
   "metadata": {},
   "outputs": [
    {
     "name": "stdout",
     "output_type": "stream",
     "text": [
      "Cluster Centroids:\n",
      "      PC1     PC2     PC3     PC4     PC5     PC6     PC7\n",
      "0 -0.6193 -0.6402 -0.1958  0.0869 -0.0678 -0.0089  0.0384\n",
      "1  1.4145 -0.0872 -0.0368  0.1732 -0.0299  0.0090 -0.0216\n",
      "2  0.1502 -0.0345  0.2679 -0.1737  0.0363 -0.0124 -0.0032\n",
      "3 -0.4293  0.3123 -0.1441  0.0483  0.0067  0.0161 -0.0023\n",
      "4  0.2826  0.0344 -0.1765 -0.3576 -0.1007  0.0241 -0.0512\n",
      "5  0.4814  0.1918 -0.1346 -0.0673  0.0610 -0.0638  0.1069\n",
      "6 -0.5002  0.0754  0.3332  0.0657  0.0693 -0.0018 -0.0242\n"
     ]
    }
   ],
   "source": [
    "# Print formatted centroids\n",
    "print(\"Cluster Centroids:\")\n",
    "print(centroids_df.to_string(float_format=\"{:.4f}\".format))"
   ]
  },
  {
   "cell_type": "code",
   "execution_count": 45,
   "id": "21bd4a9c-5135-47db-970a-9ebeadfd1eec",
   "metadata": {},
   "outputs": [],
   "source": [
    "cluster_labels = kmeans.fit_predict(df_reduced)"
   ]
  },
  {
   "cell_type": "code",
   "execution_count": 46,
   "id": "6fcbdf0a-abfa-470d-91be-5eea3540f04d",
   "metadata": {},
   "outputs": [
    {
     "data": {
      "text/plain": [
       "array([0.58184528, 0.57355642, 0.47133012, ..., 0.0157423 , 0.15579884,\n",
       "       0.04752486])"
      ]
     },
     "execution_count": 46,
     "metadata": {},
     "output_type": "execute_result"
    }
   ],
   "source": [
    "# Compute Silhouette scores\n",
    "silhouette_vals = silhouette_samples(df_norm, cluster_labels)\n",
    "silhouette_vals"
   ]
  },
  {
   "cell_type": "code",
   "execution_count": 47,
   "id": "33a79247-4093-42d7-bf6d-c0fbf34cf5c9",
   "metadata": {},
   "outputs": [
    {
     "name": "stdout",
     "output_type": "stream",
     "text": [
      "Average Silhouette Score: 0.3446\n"
     ]
    }
   ],
   "source": [
    "#Compute average Silhouette score\n",
    "avg_silhouette_score = silhouette_score(df_reduced, cluster_labels)\n",
    "print(f\"Average Silhouette Score: {avg_silhouette_score:.4f}\")"
   ]
  },
  {
   "cell_type": "code",
   "execution_count": 48,
   "id": "ca8d2e45-9281-4ed5-9e33-bbac10f52900",
   "metadata": {},
   "outputs": [
    {
     "name": "stdout",
     "output_type": "stream",
     "text": [
      "The average silhouette value is:  0.3185292814183078\n"
     ]
    },
    {
     "data": {
      "image/png": "[encoded data removed]",
      "text/plain": [
       "<Figure size 640x480 with 1 Axes>"
      ]
     },
     "metadata": {},
     "output_type": "display_data"
    }
   ],
   "source": [
    "clusters = kmeans.predict(df_reduced)\n",
    "plot_silhouettes(df_norm,clusters)"
   ]
  },
  {
   "cell_type": "code",
   "execution_count": 49,
   "id": "3d604ce5-1d5c-44ff-bcb8-1410316d78e7",
   "metadata": {},
   "outputs": [
    {
     "name": "stdout",
     "output_type": "stream",
     "text": [
      "Completeness: 0.6695\n",
      "Homogeneity: 0.6401\n"
     ]
    }
   ],
   "source": [
    "# Compute Completeness and Homogeneity\n",
    "completeness = completeness_score(df_classes.iloc[:,1], kmeans.labels_)\n",
    "homogeneity = homogeneity_score(df_classes.iloc[:,1], kmeans.labels_)\n",
    "\n",
    "# Print the results\n",
    "print(f\"Completeness: {completeness:.4f}\")\n",
    "print(f\"Homogeneity: {homogeneity:.4f}\")"
   ]
  },
  {
   "cell_type": "markdown",
   "id": "40937143-9e4b-45dc-abe0-a4fe2fa36ece",
   "metadata": {},
   "source": [
    "PCA-reduced data (0.6695) shows higher completeness than full data (0.6117).\n",
    "Full data (0.3320) shows a slightly higher silhouette score than PCA-reduced data (0.3185).\n",
    "PCA has improved the clustering performance in terms of completeness and homogeneity. This suggests that the reduced dimensions have captured the most relevant information for separating classes.\n",
    "The slight decrease in the silhouette score with PCA indicates that while the classes are better separated, the overall cluster structure (in terms of within-cluster similarity and between-cluster dissimilarity) is slightly less defined in the reduced space."
   ]
  },
  {
   "cell_type": "markdown",
   "id": "82e3e315-04d6-41c6-ab5d-b5dd1fac6c8d",
   "metadata": {},
   "source": [
    "# 2.\tItem-Based Joke Recommendation [Dataset: jokes.zip]\n",
    "For this problem you will use a modified version of the item-based recommender algorithm from Ch. 14 of Machine Learning in Action and use it on joke ratings data based on Jester Online Joke Recommender System. The modified version of the code is provided in the module itemBasedRec.py. Most of the module will be used as is, but you will add some additional functionality.\n",
    "The data set contains two files. The file \"modified_jester_data.csv\" contains the ratings on 100 jokes by 1000 users (each row is a user profile). The ratings have been normalized to be between 1 and 21 (a 20-point scale), with 1 being the lowest rating. A zero indicated a missing rating. The file \"jokes.csv\" contains the joke ids mapped to the actual text of the jokes.\n",
    "Your tasks in this problem are the following (please also see comments for the function stubs in the provided module):\n"
   ]
  },
  {
   "cell_type": "markdown",
   "id": "0129ea7d-0d3b-4772-8614-c2feeaa8216f",
   "metadata": {},
   "source": [
    "### a.\t[15 pts] Load in the joke ratings data and the joke text data into appropriate data structures. Use the \"recommend\" function to provide top 5 joke recommendations for users with id 4 using both Pearson and cosine similarity measures. Note the differences. Use the standard item-based collaborative filtering (based on the rating prediction function \"standEst\"). Next, find the top 5 recommendations for user with id 25 only with Pearson similarity using both the standard estimator and the SVD-based version (using \"svdEst\" as the prediction engine) to generate these recommendations. Note the differences. When outputting recommendations, you should show both the id and the text of the recommended jokes (in decreasing order of predicted rating) as well as the predicted ratings for each.\n"
   ]
  },
  {
   "cell_type": "code",
   "execution_count": 53,
   "id": "1934760b-62c8-4db0-b5e2-a32038ee4901",
   "metadata": {},
   "outputs": [
    {
     "data": {
      "text/html": [
       "<div>\n",
       "<style scoped>\n",
       "    .dataframe tbody tr th:only-of-type {\n",
       "        vertical-align: middle;\n",
       "    }\n",
       "\n",
       "    .dataframe tbody tr th {\n",
       "        vertical-align: top;\n",
       "    }\n",
       "\n",
       "    .dataframe thead th {\n",
       "        text-align: right;\n",
       "    }\n",
       "</style>\n",
       "<table border=\"1\" class=\"dataframe\">\n",
       "  <thead>\n",
       "    <tr style=\"text-align: right;\">\n",
       "      <th></th>\n",
       "      <th>1</th>\n",
       "    </tr>\n",
       "  </thead>\n",
       "  <tbody>\n",
       "    <tr>\n",
       "      <th>0</th>\n",
       "      <td>A man visits the doctor. The doctor says \"I have bad news for you.You have cancer and Alzheimer's disease\". The man ...</td>\n",
       "    </tr>\n",
       "    <tr>\n",
       "      <th>1</th>\n",
       "      <td>This couple had an excellent relationship going until one day he came home from work to find his girlfriend packing....</td>\n",
       "    </tr>\n",
       "    <tr>\n",
       "      <th>2</th>\n",
       "      <td>Q. What's 200 feet long and has 4 teeth? A. The front row at a Willie Nelson Concert.</td>\n",
       "    </tr>\n",
       "    <tr>\n",
       "      <th>3</th>\n",
       "      <td>Q. What's the difference between a man and a toilet? A. A toilet doesn't follow you around after you use it.</td>\n",
       "    </tr>\n",
       "    <tr>\n",
       "      <th>4</th>\n",
       "      <td>Q. What's O. J. Simpson's Internet address? A.\\tSlash slash backslash slash slash escape.</td>\n",
       "    </tr>\n",
       "    <tr>\n",
       "      <th>5</th>\n",
       "      <td>Bill &amp; Hillary are on a trip back to Arkansas. They're almost out of gas so Bill pulls into a service station on the...</td>\n",
       "    </tr>\n",
       "    <tr>\n",
       "      <th>6</th>\n",
       "      <td>How many feminists does it take to screw in a light bulb?That's not funny.</td>\n",
       "    </tr>\n",
       "    <tr>\n",
       "      <th>7</th>\n",
       "      <td>Q. Did you hear about the dyslexic devil worshipper? A. He sold his soul to Santa.</td>\n",
       "    </tr>\n",
       "    <tr>\n",
       "      <th>8</th>\n",
       "      <td>A country guy goes into a city bar that has a dress code and the maitred' demands he wear a tie. Discouraged the guy...</td>\n",
       "    </tr>\n",
       "    <tr>\n",
       "      <th>9</th>\n",
       "      <td>Two cannibals are eating a clown one turns to other and says: \"Does this taste funny to you?</td>\n",
       "    </tr>\n",
       "  </tbody>\n",
       "</table>\n",
       "</div>"
      ],
      "text/plain": [
       "                                                                                                                         1\n",
       "0  A man visits the doctor. The doctor says \"I have bad news for you.You have cancer and Alzheimer's disease\". The man ...\n",
       "1  This couple had an excellent relationship going until one day he came home from work to find his girlfriend packing....\n",
       "2                                    Q. What's 200 feet long and has 4 teeth? A. The front row at a Willie Nelson Concert.\n",
       "3             Q. What's the difference between a man and a toilet? A. A toilet doesn't follow you around after you use it.\n",
       "4                                Q. What's O. J. Simpson's Internet address? A.\\tSlash slash backslash slash slash escape.\n",
       "5  Bill & Hillary are on a trip back to Arkansas. They're almost out of gas so Bill pulls into a service station on the...\n",
       "6                                               How many feminists does it take to screw in a light bulb?That's not funny.\n",
       "7                                       Q. Did you hear about the dyslexic devil worshipper? A. He sold his soul to Santa.\n",
       "8  A country guy goes into a city bar that has a dress code and the maitred' demands he wear a tie. Discouraged the guy...\n",
       "9                            Two cannibals are eating a clown one turns to other and says: \"Does this taste funny to you? "
      ]
     },
     "execution_count": 53,
     "metadata": {},
     "output_type": "execute_result"
    }
   ],
   "source": [
    "pd.set_option('display.max_colwidth', 120)\n",
    "\n",
    "jokes = pd.read_csv(\"/Users/kavanamanvi/Desktop/PML/HW4/jokes/jokes.csv\", usecols=[1], header=None)\n",
    "jokes.head(10)"
   ]
  },
  {
   "cell_type": "code",
   "execution_count": 54,
   "id": "e70bbd2c-29c7-4d6f-81ba-7deeb1f26e5d",
   "metadata": {},
   "outputs": [],
   "source": [
    "def get_joke_text(jokes, id):\n",
    "\treturn np.array(jokes)[id]"
   ]
  },
  {
   "cell_type": "code",
   "execution_count": 55,
   "id": "620abb8a-7972-4d82-96f9-d1abb179c5d6",
   "metadata": {},
   "outputs": [
    {
     "name": "stdout",
     "output_type": "stream",
     "text": [
      "['A bus station is where a bus stops.A train station is where a train stops.On my desk I have a work station...']\n"
     ]
    }
   ],
   "source": [
    "print(get_joke_text(jokes, 98))"
   ]
  },
  {
   "cell_type": "code",
   "execution_count": 56,
   "id": "f0d6190b-71a5-484a-8756-6bc2d7eb0f32",
   "metadata": {},
   "outputs": [
    {
     "data": {
      "text/plain": [
       "(1000, 100)"
      ]
     },
     "execution_count": 56,
     "metadata": {},
     "output_type": "execute_result"
    }
   ],
   "source": [
    "dataMat = pd.read_csv(\"/Users/kavanamanvi/Desktop/PML/HW4/jokes/modified_jester_data.csv\", header=None)\n",
    "\n",
    "dataMat.shape"
   ]
  },
  {
   "cell_type": "code",
   "execution_count": 57,
   "id": "6d9e07ad-0f42-41ad-a9bc-ac640edc9516",
   "metadata": {},
   "outputs": [
    {
     "data": {
      "text/html": [
       "<div>\n",
       "<style scoped>\n",
       "    .dataframe tbody tr th:only-of-type {\n",
       "        vertical-align: middle;\n",
       "    }\n",
       "\n",
       "    .dataframe tbody tr th {\n",
       "        vertical-align: top;\n",
       "    }\n",
       "\n",
       "    .dataframe thead th {\n",
       "        text-align: right;\n",
       "    }\n",
       "</style>\n",
       "<table border=\"1\" class=\"dataframe\">\n",
       "  <thead>\n",
       "    <tr style=\"text-align: right;\">\n",
       "      <th></th>\n",
       "      <th>0</th>\n",
       "      <th>1</th>\n",
       "      <th>2</th>\n",
       "      <th>3</th>\n",
       "      <th>4</th>\n",
       "      <th>5</th>\n",
       "      <th>6</th>\n",
       "      <th>7</th>\n",
       "      <th>8</th>\n",
       "      <th>9</th>\n",
       "      <th>...</th>\n",
       "      <th>90</th>\n",
       "      <th>91</th>\n",
       "      <th>92</th>\n",
       "      <th>93</th>\n",
       "      <th>94</th>\n",
       "      <th>95</th>\n",
       "      <th>96</th>\n",
       "      <th>97</th>\n",
       "      <th>98</th>\n",
       "      <th>99</th>\n",
       "    </tr>\n",
       "  </thead>\n",
       "  <tbody>\n",
       "    <tr>\n",
       "      <th>0</th>\n",
       "      <td>3.18</td>\n",
       "      <td>19.79</td>\n",
       "      <td>1.34</td>\n",
       "      <td>2.84</td>\n",
       "      <td>3.48</td>\n",
       "      <td>2.50</td>\n",
       "      <td>1.15</td>\n",
       "      <td>15.17</td>\n",
       "      <td>2.02</td>\n",
       "      <td>6.24</td>\n",
       "      <td>...</td>\n",
       "      <td>13.82</td>\n",
       "      <td>0.00</td>\n",
       "      <td>0.00</td>\n",
       "      <td>0.00</td>\n",
       "      <td>0.00</td>\n",
       "      <td>0.00</td>\n",
       "      <td>5.37</td>\n",
       "      <td>0.00</td>\n",
       "      <td>0.00</td>\n",
       "      <td>0.00</td>\n",
       "    </tr>\n",
       "    <tr>\n",
       "      <th>1</th>\n",
       "      <td>15.08</td>\n",
       "      <td>10.71</td>\n",
       "      <td>17.36</td>\n",
       "      <td>15.37</td>\n",
       "      <td>8.62</td>\n",
       "      <td>1.34</td>\n",
       "      <td>10.27</td>\n",
       "      <td>5.66</td>\n",
       "      <td>19.88</td>\n",
       "      <td>20.22</td>\n",
       "      <td>...</td>\n",
       "      <td>13.82</td>\n",
       "      <td>6.05</td>\n",
       "      <td>10.71</td>\n",
       "      <td>18.86</td>\n",
       "      <td>10.81</td>\n",
       "      <td>8.86</td>\n",
       "      <td>14.06</td>\n",
       "      <td>11.34</td>\n",
       "      <td>6.68</td>\n",
       "      <td>12.07</td>\n",
       "    </tr>\n",
       "    <tr>\n",
       "      <th>2</th>\n",
       "      <td>0.00</td>\n",
       "      <td>0.00</td>\n",
       "      <td>0.00</td>\n",
       "      <td>0.00</td>\n",
       "      <td>20.03</td>\n",
       "      <td>20.27</td>\n",
       "      <td>20.03</td>\n",
       "      <td>20.27</td>\n",
       "      <td>0.00</td>\n",
       "      <td>0.00</td>\n",
       "      <td>...</td>\n",
       "      <td>0.00</td>\n",
       "      <td>0.00</td>\n",
       "      <td>0.00</td>\n",
       "      <td>20.08</td>\n",
       "      <td>0.00</td>\n",
       "      <td>0.00</td>\n",
       "      <td>0.00</td>\n",
       "      <td>0.00</td>\n",
       "      <td>0.00</td>\n",
       "      <td>0.00</td>\n",
       "    </tr>\n",
       "    <tr>\n",
       "      <th>3</th>\n",
       "      <td>0.00</td>\n",
       "      <td>19.35</td>\n",
       "      <td>0.00</td>\n",
       "      <td>0.00</td>\n",
       "      <td>12.80</td>\n",
       "      <td>19.16</td>\n",
       "      <td>8.18</td>\n",
       "      <td>17.21</td>\n",
       "      <td>0.00</td>\n",
       "      <td>12.84</td>\n",
       "      <td>...</td>\n",
       "      <td>0.00</td>\n",
       "      <td>0.00</td>\n",
       "      <td>0.00</td>\n",
       "      <td>11.53</td>\n",
       "      <td>0.00</td>\n",
       "      <td>0.00</td>\n",
       "      <td>0.00</td>\n",
       "      <td>0.00</td>\n",
       "      <td>0.00</td>\n",
       "      <td>0.00</td>\n",
       "    </tr>\n",
       "    <tr>\n",
       "      <th>4</th>\n",
       "      <td>19.50</td>\n",
       "      <td>15.61</td>\n",
       "      <td>6.83</td>\n",
       "      <td>5.61</td>\n",
       "      <td>12.36</td>\n",
       "      <td>12.60</td>\n",
       "      <td>18.04</td>\n",
       "      <td>15.61</td>\n",
       "      <td>10.56</td>\n",
       "      <td>16.73</td>\n",
       "      <td>...</td>\n",
       "      <td>16.19</td>\n",
       "      <td>16.58</td>\n",
       "      <td>15.27</td>\n",
       "      <td>16.19</td>\n",
       "      <td>16.73</td>\n",
       "      <td>12.55</td>\n",
       "      <td>14.11</td>\n",
       "      <td>17.55</td>\n",
       "      <td>12.80</td>\n",
       "      <td>12.60</td>\n",
       "    </tr>\n",
       "    <tr>\n",
       "      <th>5</th>\n",
       "      <td>4.83</td>\n",
       "      <td>7.46</td>\n",
       "      <td>11.44</td>\n",
       "      <td>2.50</td>\n",
       "      <td>3.91</td>\n",
       "      <td>6.68</td>\n",
       "      <td>2.31</td>\n",
       "      <td>10.13</td>\n",
       "      <td>4.35</td>\n",
       "      <td>9.20</td>\n",
       "      <td>...</td>\n",
       "      <td>7.46</td>\n",
       "      <td>4.11</td>\n",
       "      <td>10.32</td>\n",
       "      <td>8.04</td>\n",
       "      <td>8.82</td>\n",
       "      <td>7.65</td>\n",
       "      <td>11.05</td>\n",
       "      <td>1.92</td>\n",
       "      <td>5.95</td>\n",
       "      <td>7.55</td>\n",
       "    </tr>\n",
       "    <tr>\n",
       "      <th>6</th>\n",
       "      <td>0.00</td>\n",
       "      <td>0.00</td>\n",
       "      <td>0.00</td>\n",
       "      <td>0.00</td>\n",
       "      <td>19.59</td>\n",
       "      <td>1.15</td>\n",
       "      <td>18.72</td>\n",
       "      <td>19.79</td>\n",
       "      <td>0.00</td>\n",
       "      <td>0.00</td>\n",
       "      <td>...</td>\n",
       "      <td>0.00</td>\n",
       "      <td>0.00</td>\n",
       "      <td>0.00</td>\n",
       "      <td>0.00</td>\n",
       "      <td>0.00</td>\n",
       "      <td>13.33</td>\n",
       "      <td>0.00</td>\n",
       "      <td>0.00</td>\n",
       "      <td>0.00</td>\n",
       "      <td>0.00</td>\n",
       "    </tr>\n",
       "    <tr>\n",
       "      <th>7</th>\n",
       "      <td>17.84</td>\n",
       "      <td>14.16</td>\n",
       "      <td>20.17</td>\n",
       "      <td>4.79</td>\n",
       "      <td>2.84</td>\n",
       "      <td>9.30</td>\n",
       "      <td>20.27</td>\n",
       "      <td>12.41</td>\n",
       "      <td>5.81</td>\n",
       "      <td>6.58</td>\n",
       "      <td>...</td>\n",
       "      <td>18.23</td>\n",
       "      <td>9.88</td>\n",
       "      <td>10.90</td>\n",
       "      <td>5.32</td>\n",
       "      <td>7.84</td>\n",
       "      <td>7.65</td>\n",
       "      <td>13.14</td>\n",
       "      <td>10.95</td>\n",
       "      <td>12.31</td>\n",
       "      <td>11.00</td>\n",
       "    </tr>\n",
       "    <tr>\n",
       "      <th>8</th>\n",
       "      <td>7.21</td>\n",
       "      <td>7.46</td>\n",
       "      <td>1.58</td>\n",
       "      <td>4.11</td>\n",
       "      <td>2.26</td>\n",
       "      <td>10.71</td>\n",
       "      <td>5.71</td>\n",
       "      <td>2.07</td>\n",
       "      <td>3.14</td>\n",
       "      <td>9.40</td>\n",
       "      <td>...</td>\n",
       "      <td>15.37</td>\n",
       "      <td>10.71</td>\n",
       "      <td>15.17</td>\n",
       "      <td>10.71</td>\n",
       "      <td>10.71</td>\n",
       "      <td>10.71</td>\n",
       "      <td>10.71</td>\n",
       "      <td>10.71</td>\n",
       "      <td>7.60</td>\n",
       "      <td>6.05</td>\n",
       "    </tr>\n",
       "    <tr>\n",
       "      <th>9</th>\n",
       "      <td>14.01</td>\n",
       "      <td>16.15</td>\n",
       "      <td>16.15</td>\n",
       "      <td>14.01</td>\n",
       "      <td>17.41</td>\n",
       "      <td>16.15</td>\n",
       "      <td>19.93</td>\n",
       "      <td>13.52</td>\n",
       "      <td>14.01</td>\n",
       "      <td>19.16</td>\n",
       "      <td>...</td>\n",
       "      <td>0.00</td>\n",
       "      <td>15.47</td>\n",
       "      <td>0.00</td>\n",
       "      <td>0.00</td>\n",
       "      <td>0.00</td>\n",
       "      <td>0.00</td>\n",
       "      <td>0.00</td>\n",
       "      <td>0.00</td>\n",
       "      <td>0.00</td>\n",
       "      <td>0.00</td>\n",
       "    </tr>\n",
       "  </tbody>\n",
       "</table>\n",
       "<p>10 rows × 100 columns</p>\n",
       "</div>"
      ],
      "text/plain": [
       "      0      1      2      3      4      5      6      7      8      9   ...  \\\n",
       "0   3.18  19.79   1.34   2.84   3.48   2.50   1.15  15.17   2.02   6.24  ...   \n",
       "1  15.08  10.71  17.36  15.37   8.62   1.34  10.27   5.66  19.88  20.22  ...   \n",
       "2   0.00   0.00   0.00   0.00  20.03  20.27  20.03  20.27   0.00   0.00  ...   \n",
       "3   0.00  19.35   0.00   0.00  12.80  19.16   8.18  17.21   0.00  12.84  ...   \n",
       "4  19.50  15.61   6.83   5.61  12.36  12.60  18.04  15.61  10.56  16.73  ...   \n",
       "5   4.83   7.46  11.44   2.50   3.91   6.68   2.31  10.13   4.35   9.20  ...   \n",
       "6   0.00   0.00   0.00   0.00  19.59   1.15  18.72  19.79   0.00   0.00  ...   \n",
       "7  17.84  14.16  20.17   4.79   2.84   9.30  20.27  12.41   5.81   6.58  ...   \n",
       "8   7.21   7.46   1.58   4.11   2.26  10.71   5.71   2.07   3.14   9.40  ...   \n",
       "9  14.01  16.15  16.15  14.01  17.41  16.15  19.93  13.52  14.01  19.16  ...   \n",
       "\n",
       "      90     91     92     93     94     95     96     97     98     99  \n",
       "0  13.82   0.00   0.00   0.00   0.00   0.00   5.37   0.00   0.00   0.00  \n",
       "1  13.82   6.05  10.71  18.86  10.81   8.86  14.06  11.34   6.68  12.07  \n",
       "2   0.00   0.00   0.00  20.08   0.00   0.00   0.00   0.00   0.00   0.00  \n",
       "3   0.00   0.00   0.00  11.53   0.00   0.00   0.00   0.00   0.00   0.00  \n",
       "4  16.19  16.58  15.27  16.19  16.73  12.55  14.11  17.55  12.80  12.60  \n",
       "5   7.46   4.11  10.32   8.04   8.82   7.65  11.05   1.92   5.95   7.55  \n",
       "6   0.00   0.00   0.00   0.00   0.00  13.33   0.00   0.00   0.00   0.00  \n",
       "7  18.23   9.88  10.90   5.32   7.84   7.65  13.14  10.95  12.31  11.00  \n",
       "8  15.37  10.71  15.17  10.71  10.71  10.71  10.71  10.71   7.60   6.05  \n",
       "9   0.00  15.47   0.00   0.00   0.00   0.00   0.00   0.00   0.00   0.00  \n",
       "\n",
       "[10 rows x 100 columns]"
      ]
     },
     "execution_count": 57,
     "metadata": {},
     "output_type": "execute_result"
    }
   ],
   "source": [
    "pd.set_option('display.max_colwidth', 40)\n",
    "\n",
    "dataMat.head(10)"
   ]
  },
  {
   "cell_type": "code",
   "execution_count": 58,
   "id": "450540d1-0f3f-48bc-8266-25e95dee8d71",
   "metadata": {},
   "outputs": [],
   "source": [
    "from numpy import *\n",
    "from numpy import linalg as la\n",
    "import numpy as np"
   ]
  },
  {
   "cell_type": "code",
   "execution_count": 59,
   "id": "87d2f1bb-46a3-463a-9440-ed2408027bbb",
   "metadata": {},
   "outputs": [],
   "source": [
    "def euclidSim(inA,inB):\n",
    "    return 1.0 / (1.0 + la.norm(inA - inB))\n"
   ]
  },
  {
   "cell_type": "code",
   "execution_count": 60,
   "id": "a6fcc290-32d6-4e65-93c2-5cb20d612185",
   "metadata": {},
   "outputs": [],
   "source": [
    "def pearsonSim(inA,inB):\n",
    "    if len(inA) < 3 : return 1.0\n",
    "    return 0.5 + 0.5 * corrcoef(inA, inB, rowvar = 0)[0][1]\n"
   ]
  },
  {
   "cell_type": "code",
   "execution_count": 61,
   "id": "38756f48-5a05-423b-96f7-09e536b91858",
   "metadata": {},
   "outputs": [],
   "source": [
    "def cosineSim(inA,inB):\n",
    "    num = float(inA.T * inB)\n",
    "    denom = la.norm(inA)*la.norm(inB)\n",
    "    return 0.5 + 0.5 * (num / denom)"
   ]
  },
  {
   "cell_type": "code",
   "execution_count": 62,
   "id": "9d24f3d0-9d4b-472f-a6d9-386e4de29cba",
   "metadata": {},
   "outputs": [],
   "source": [
    "def standEst(dataMat, user, simMeas, item):\n",
    "    n = shape(dataMat)[1]\n",
    "    simTotal = 0.0; ratSimTotal = 0.0\n",
    "    data=mat(dataMat)\n",
    "    for j in range(n):\n",
    "        userRating = data[user,j]\n",
    "        if userRating == 0: continue\n",
    "        overLap = nonzero(logical_and(data[:,item]>0, data[:,j]>0))[0]\n",
    "        if len(overLap) == 0:\n",
    "            similarity = 0\n",
    "        else:\n",
    "            similarity = simMeas(data[overLap,item], data[overLap,j])\n",
    "        #print('the %d and %d similarity is: %f' % (item, j, similarity))\n",
    "        simTotal += similarity\n",
    "        ratSimTotal += similarity * userRating\n",
    "    if simTotal == 0: return 0\n",
    "    else: return ratSimTotal/simTotal"
   ]
  },
  {
   "cell_type": "code",
   "execution_count": 63,
   "id": "586b8953-e65c-4399-b253-6a162c4b8fa4",
   "metadata": {},
   "outputs": [],
   "source": [
    "def svdEst(dataMat, user, simMeas, item):\n",
    "    n = shape(dataMat)[1]\n",
    "    k = 4 #number of dimension for SVD\n",
    "    simTotal = 0.0; ratSimTotal = 0.0\n",
    "    data=mat(dataMat)\n",
    "    U,Sigma,VT = la.svd(data)\n",
    "    Sig_k = mat(eye(k)*Sigma[:k]) #arrange Sig_k into a diagonal matrix\n",
    "    xformedItems = data.T * U[:,:k] * Sig_k.I  #create transformed items\n",
    "    for j in range(n):\n",
    "        userRating = data[user,j]\n",
    "        if userRating == 0 or j==item: continue\n",
    "        similarity = simMeas(xformedItems[item,:].T, xformedItems[j,:].T)\n",
    "        #print('the %d and %d similarity is: %f' % (item, j, similarity))\n",
    "        simTotal += similarity\n",
    "        ratSimTotal += similarity * userRating\n",
    "    if simTotal == 0: return 0\n",
    "    else: return ratSimTotal/simTotal"
   ]
  },
  {
   "cell_type": "code",
   "execution_count": 64,
   "id": "13bd5da4-eab1-42e7-b4e3-b04de7c7e9d4",
   "metadata": {},
   "outputs": [],
   "source": [
    "def recommend(dataMat, user, N=3, simMeas=pearsonSim, estMethod=standEst):\n",
    "    unratedItems = nonzero(dataMat[user,:].A==0)[1] #find unrated items \n",
    "    if len(unratedItems) == 0: return 'you rated everything'\n",
    "    itemScores = []\n",
    "    for item in unratedItems:\n",
    "        estimatedScore = estMethod(dataMat, user, simMeas, item)\n",
    "        itemScores.append((item, estimatedScore))\n",
    "    return sorted(itemScores, key=lambda jj: jj[1], reverse=True)[:N]"
   ]
  },
  {
   "cell_type": "code",
   "execution_count": 65,
   "id": "04b81dae-6fed-48e4-b2de-4883ee89889b",
   "metadata": {},
   "outputs": [
    {
     "data": {
      "text/plain": [
       "matrix([[ 3.18, 19.79,  1.34, ...,  0.  ,  0.  ,  0.  ],\n",
       "        [15.08, 10.71, 17.36, ..., 11.34,  6.68, 12.07],\n",
       "        [ 0.  ,  0.  ,  0.  , ...,  0.  ,  0.  ,  0.  ],\n",
       "        ...,\n",
       "        [16.58, 16.63, 15.85, ...,  0.  ,  0.  ,  0.  ],\n",
       "        [ 3.67,  4.45,  3.67, ...,  3.77,  3.77,  3.28],\n",
       "        [ 9.88, 11.73,  9.16, ...,  0.  ,  0.  ,  0.  ]])"
      ]
     },
     "execution_count": 65,
     "metadata": {},
     "output_type": "execute_result"
    }
   ],
   "source": [
    "dataMat = np.mat(dataMat)\n",
    "dataMat"
   ]
  },
  {
   "cell_type": "code",
   "execution_count": 66,
   "id": "bc7172e5-5f1f-40c3-854b-995da41b27f2",
   "metadata": {},
   "outputs": [
    {
     "name": "stdout",
     "output_type": "stream",
     "text": [
      "Shape of dataMat: (1000, 100)\n"
     ]
    }
   ],
   "source": [
    "# Check the shape of dataMat\n",
    "print(\"Shape of dataMat:\", dataMat.shape)"
   ]
  },
  {
   "cell_type": "code",
   "execution_count": 67,
   "id": "89c29fc7-3dc0-4758-b7f3-cd44a059137b",
   "metadata": {},
   "outputs": [
    {
     "name": "stdout",
     "output_type": "stream",
     "text": [
      "Recommendations for user 4:\n",
      "Joke ID: 71\n",
      "Joke: ['On the first day of college the Dean addressed the students pointing out some of the rules:\"The female dormitory will be out-of-bounds for all male students and the male dormitory to the female students. Anybody caught breaking this rule will be fined $20 the first time.\" He continued \"Anybody caught breaking this rule the second time will be fined $60. Being caught a third time will cost you a fine of $180. Are there any questions ?\"At this point a male student in the crowd inquired:\"How much for a season pass ?\"']\n",
      "Predicted Rating: 14.413443009309447\n",
      "\n",
      "Joke ID: 75\n",
      "Joke: [\"There once was a man and a woman that both  got in  a terrible car wreck. Both of their vehicles  were completely destroyed buy fortunately no one  was   hurt.  In thankfulness the woman said to the man 'We are both okay so we should celebrate. I have   a  bottle of wine in my car let's open it.' So the woman got the bottle out of the car and  handed it to the man. The man took a really big drink and handed the woman the bottle. The  woman  closed the bottle and put it down. The man  asked  'Aren't you going to take a drink?' The woman cleverly replied 'No I think I'll  just  wait for the cops to get here.'\"]\n",
      "Predicted Rating: 14.397311198445264\n",
      "\n",
      "Joke ID: 79\n",
      "Joke: ['Hillary Bill Clinton and the Pope are sitting together on an airplane. Bill says \"I could throw one thousand dollar bill out of this plane and make one person very happy.\"Hillary says \"I could throw 10 hundred dollar bills out of the plane and make 10 people very happy.\"The Pope chips in and says \"I could throw Bill out of the airplane and make the whole country happy.\"']\n",
      "Predicted Rating: 14.382511887413443\n",
      "\n",
      "Joke ID: 78\n",
      "Joke: ['Q: Ever wonder why the IRS calls it Form 1040?A: Because for every $50 that you earn you get 10 and they get 40.']\n",
      "Predicted Rating: 14.356160763938075\n",
      "\n",
      "Joke ID: 72\n",
      "Joke: [\"Q: What is the difference between George  Washington Richard Nixon and Bill Clinton? A: Washington couldn't tell a lie Nixon couldn't   tell the truth andClinton doesn't know the difference.\"]\n",
      "Predicted Rating: 14.334361485417928\n",
      "\n"
     ]
    }
   ],
   "source": [
    "user_id = 4\n",
    "recommendations = recommend(dataMat, user_id, N=5, simMeas=pearsonSim, estMethod=standEst)\n",
    "# Print the recommendations\n",
    "print(f\"Recommendations for user {user_id}:\")\n",
    "for joke_id, rating in recommendations:\n",
    "    joke_text = get_joke_text(jokes, joke_id)\n",
    "    print(f\"Joke ID: {joke_id}\")\n",
    "    print(f\"Joke: {joke_text}\")\n",
    "    print(f\"Predicted Rating: {rating}\\n\")"
   ]
  },
  {
   "cell_type": "code",
   "execution_count": 68,
   "id": "43b95c58-2001-4ed5-a006-26f29add070e",
   "metadata": {},
   "outputs": [
    {
     "name": "stdout",
     "output_type": "stream",
     "text": [
      "Joke ID: 71\n",
      "Joke: ['On the first day of college the Dean addressed the students pointing out some of the rules:\"The female dormitory will be out-of-bounds for all male students and the male dormitory to the female students. Anybody caught breaking this rule will be fined $20 the first time.\" He continued \"Anybody caught breaking this rule the second time will be fined $60. Being caught a third time will cost you a fine of $180. Are there any questions ?\"At this point a male student in the crowd inquired:\"How much for a season pass ?\"']\n",
      "Predicted Rating: 14.293754381681559\n",
      "\n",
      "Joke ID: 75\n",
      "Joke: [\"There once was a man and a woman that both  got in  a terrible car wreck. Both of their vehicles  were completely destroyed buy fortunately no one  was   hurt.  In thankfulness the woman said to the man 'We are both okay so we should celebrate. I have   a  bottle of wine in my car let's open it.' So the woman got the bottle out of the car and  handed it to the man. The man took a really big drink and handed the woman the bottle. The  woman  closed the bottle and put it down. The man  asked  'Aren't you going to take a drink?' The woman cleverly replied 'No I think I'll  just  wait for the cops to get here.'\"]\n",
      "Predicted Rating: 14.293605672411005\n",
      "\n",
      "Joke ID: 79\n",
      "Joke: ['Hillary Bill Clinton and the Pope are sitting together on an airplane. Bill says \"I could throw one thousand dollar bill out of this plane and make one person very happy.\"Hillary says \"I could throw 10 hundred dollar bills out of the plane and make 10 people very happy.\"The Pope chips in and says \"I could throw Bill out of the airplane and make the whole country happy.\"']\n",
      "Predicted Rating: 14.29306331911475\n",
      "\n",
      "Joke ID: 78\n",
      "Joke: ['Q: Ever wonder why the IRS calls it Form 1040?A: Because for every $50 that you earn you get 10 and they get 40.']\n",
      "Predicted Rating: 14.290833910355804\n",
      "\n",
      "Joke ID: 70\n",
      "Joke: ['At a recent Sacramento PC Users Group meeting a company was demonstrating its latest speech-recognition software.   A representative from the company was just about ready to start the demonstration and asked everyone in the room to quiet down.Just then someone in the back of the room yelled\"Format C: Return.\"Someone else chimed in:\"Yes Return\"Unfortunately the software worked.']\n",
      "Predicted Rating: 14.287092374768886\n",
      "\n"
     ]
    },
    {
     "name": "stderr",
     "output_type": "stream",
     "text": [
      "/var/folders/b2/s6cq43q964gcjk0fp440gx_h0000gn/T/ipykernel_69768/2487990520.py:2: DeprecationWarning: Conversion of an array with ndim > 0 to a scalar is deprecated, and will error in future. Ensure you extract a single element from your array before performing this operation. (Deprecated NumPy 1.25.)\n",
      "  num = float(inA.T * inB)\n"
     ]
    }
   ],
   "source": [
    "user_id = 4\n",
    "recommendations = recommend(dataMat, user_id, N=5, simMeas=cosineSim, estMethod=standEst)\n",
    "\n",
    "# Print the recommendations\n",
    "for joke_id, rating in recommendations:\n",
    "    joke_text = get_joke_text(jokes, joke_id)\n",
    "    print(f\"Joke ID: {joke_id}\")\n",
    "    print(f\"Joke: {joke_text}\")\n",
    "    print(f\"Predicted Rating: {rating}\\n\")"
   ]
  },
  {
   "cell_type": "code",
   "execution_count": 69,
   "id": "50b192c3-7df4-4c7b-ba17-67ece9a0d36f",
   "metadata": {},
   "outputs": [
    {
     "name": "stdout",
     "output_type": "stream",
     "text": [
      "Joke ID: 99\n",
      "Joke: [\"Q: What's the difference between greeting a Queen and greeting thePresident of the United  States?A: You only have to get on one knee to greet the queen.\"]\n",
      "Predicted Rating: 15.324673571007686\n",
      "\n",
      "Joke ID: 71\n",
      "Joke: ['On the first day of college the Dean addressed the students pointing out some of the rules:\"The female dormitory will be out-of-bounds for all male students and the male dormitory to the female students. Anybody caught breaking this rule will be fined $20 the first time.\" He continued \"Anybody caught breaking this rule the second time will be fined $60. Being caught a third time will cost you a fine of $180. Are there any questions ?\"At this point a male student in the crowd inquired:\"How much for a season pass ?\"']\n",
      "Predicted Rating: 15.324296950553675\n",
      "\n",
      "Joke ID: 97\n",
      "Joke: [\"Age and Womanhood1. Between the ages of 13 and 18 ... She is like Africa virgin and unexplored. 2. Between the ages of 19 and 35 ... She is like Asia hot and exotic. 3. Between the ages of 36 and 45 ... She is like America fully explored breathtakingly beautiful and free with her resources.4. Between the ages of 46 and 56 ...She is like Europe exhausted but still has points of interest. 5. After 56 she is like Australia ...Everybody knows it's down there but who gives a damn?\"]\n",
      "Predicted Rating: 15.322105340570541\n",
      "\n",
      "Joke ID: 82\n",
      "Joke: ['What a woman says:\"This place is a mess!  C\\'monYou and I need to clean upYour stuff is lying on the floor and you\\'ll have no clothes to wear if we don\\'t do laundry right now!\"What a man hears:blah blah blah blah C\\'mon blah blah blah blah you and I blah blah blah blah on the floor blah blah blah blah no clothes blah blah blah blah RIGHT NOW!']\n",
      "Predicted Rating: 15.301730225022272\n",
      "\n",
      "Joke ID: 91\n",
      "Joke: ['Early one morning a mother went to her sleeping son and woke him up.\"Wake up son.  It\\'s time to go to school.\" \"But why Mama?  I don\\'t want to go to school.\" \"Give me two reasons why you don\\'t want to go to school.\" \"One all the children hate me. Two all the teachers hate me\" \"Oh! that\\'s no reason. Come on you have to go to school\" \"Give me two good reasons WHY I should go to school?\"  \"One you are fifty-two years old. Two you are the principal of the school.\" ']\n",
      "Predicted Rating: 15.294030630051065\n",
      "\n"
     ]
    }
   ],
   "source": [
    "user_id = 25\n",
    "recommendations = recommend(dataMat, user_id, N=5, simMeas=pearsonSim, estMethod=standEst)\n",
    "\n",
    "# Print the recommendations\n",
    "for joke_id, rating in recommendations:\n",
    "    joke_text = get_joke_text(jokes, joke_id)\n",
    "    print(f\"Joke ID: {joke_id}\")\n",
    "    print(f\"Joke: {joke_text}\")\n",
    "    print(f\"Predicted Rating: {rating}\\n\")"
   ]
  },
  {
   "cell_type": "code",
   "execution_count": 70,
   "id": "65c08772-92c3-431e-bb52-c1628204bcb2",
   "metadata": {},
   "outputs": [
    {
     "name": "stdout",
     "output_type": "stream",
     "text": [
      "Joke ID: 3\n",
      "Joke: [\"Q. What's the difference between a man and a toilet? A. A toilet doesn't follow you around after you use it.\"]\n",
      "Predicted Rating: 15.27708815474947\n",
      "\n",
      "Joke ID: 79\n",
      "Joke: ['Hillary Bill Clinton and the Pope are sitting together on an airplane. Bill says \"I could throw one thousand dollar bill out of this plane and make one person very happy.\"Hillary says \"I could throw 10 hundred dollar bills out of the plane and make 10 people very happy.\"The Pope chips in and says \"I could throw Bill out of the airplane and make the whole country happy.\"']\n",
      "Predicted Rating: 15.238062599769167\n",
      "\n",
      "Joke ID: 72\n",
      "Joke: [\"Q: What is the difference between George  Washington Richard Nixon and Bill Clinton? A: Washington couldn't tell a lie Nixon couldn't   tell the truth andClinton doesn't know the difference.\"]\n",
      "Predicted Rating: 15.209188661833453\n",
      "\n",
      "Joke ID: 71\n",
      "Joke: ['On the first day of college the Dean addressed the students pointing out some of the rules:\"The female dormitory will be out-of-bounds for all male students and the male dormitory to the female students. Anybody caught breaking this rule will be fined $20 the first time.\" He continued \"Anybody caught breaking this rule the second time will be fined $60. Being caught a third time will cost you a fine of $180. Are there any questions ?\"At this point a male student in the crowd inquired:\"How much for a season pass ?\"']\n",
      "Predicted Rating: 15.185021405901894\n",
      "\n",
      "Joke ID: 99\n",
      "Joke: [\"Q: What's the difference between greeting a Queen and greeting thePresident of the United  States?A: You only have to get on one knee to greet the queen.\"]\n",
      "Predicted Rating: 15.18056079973231\n",
      "\n"
     ]
    }
   ],
   "source": [
    "user_id = 25\n",
    "recommendations = recommend(dataMat, user_id, N=5, simMeas=pearsonSim, estMethod=svdEst)\n",
    "\n",
    "# Print the recommendations\n",
    "for joke_id, rating in recommendations:\n",
    "    joke_text = get_joke_text(jokes, joke_id)\n",
    "    print(f\"Joke ID: {joke_id}\")\n",
    "    print(f\"Joke: {joke_text}\")\n",
    "    print(f\"Predicted Rating: {rating}\\n\")"
   ]
  },
  {
   "cell_type": "markdown",
   "id": "d2ddb8c9-c593-4d64-a512-0243ca8ed109",
   "metadata": {},
   "source": [
    "### b.\t[15 pts] Complete the definition for the function \"test\". This function iterates over all users and for each performs evaluation (by calling the provided \"cross_validate_user\" function) and returns the error information necessary to compute Mean Absolute Error (MAE). Use this function to perform evaluation (with 20% test-ratio for each user) comparing MAE results using the rating prediction function \"standEst\" with results using the \"svdEst\" prediction function (in both cases using Pearson similarity measure. Note that this may take several minutes depending on your computational environment. [Note: See comments provided in the module for hints on accomplishing these tasks.]\n"
   ]
  },
  {
   "cell_type": "code",
   "execution_count": 72,
   "id": "2e479350-6984-43fc-848b-d0aec1fd0058",
   "metadata": {},
   "outputs": [],
   "source": [
    "def cross_validate_user(dataMat, user, test_ratio, estMethod=standEst, simMeas=pearsonSim):\n",
    "\tdataMat = np.array(dataMat)\n",
    "\tnumber_of_items = np.shape(dataMat)[1]\n",
    "\trated_items_by_user = np.array([i for i in range(number_of_items) if dataMat[user,i]>0])\n",
    "\ttest_size = int(test_ratio * len(rated_items_by_user))\n",
    "\ttest_indices = np.random.randint(0, len(rated_items_by_user), test_size)\n",
    "\twithheld_items = rated_items_by_user[test_indices]\n",
    "\toriginal_user_profile = np.copy(dataMat[user])\n",
    "\tdataMat[user, withheld_items] = 0 # So that the withheld test items is not used in the rating estimation below\n",
    "\terror_u = 0.0\n",
    "\tcount_u = len(withheld_items)\n",
    "\n",
    "\t# Compute absolute error for user u over all test items\n",
    "\tfor item in withheld_items:\n",
    "\t\t# Estimate rating on the withheld item\n",
    "\t\testimatedScore = estMethod(dataMat, user, simMeas, item)\n",
    "\t\terror_u = error_u + abs(estimatedScore - original_user_profile[item])\t\n",
    "\t\n",
    "\t# Now restore ratings of the withheld items to the user profile\n",
    "\tfor item in withheld_items:\n",
    "\t\tdataMat[user, item] = original_user_profile[item]\n",
    "\t\t\n",
    "\t# Return sum of absolute errors and the count of test cases for this user\n",
    "\t# Note that these will have to be accumulated for each user to compute MAE\n",
    "\treturn error_u, count_u"
   ]
  },
  {
   "cell_type": "code",
   "execution_count": 73,
   "id": "93d0e4b3-c1b1-4f15-aa49-76e9a8165eef",
   "metadata": {},
   "outputs": [
    {
     "name": "stdout",
     "output_type": "stream",
     "text": [
      "(80.63961606498557, 14)\n"
     ]
    }
   ],
   "source": [
    "print(cross_validate_user(dataMat, user=0, test_ratio=0.2, estMethod=standEst, simMeas=pearsonSim))"
   ]
  },
  {
   "cell_type": "code",
   "execution_count": 74,
   "id": "74fc05e5-8515-4697-8266-4574f201a3e2",
   "metadata": {},
   "outputs": [],
   "source": [
    "def test(dataMat, test_ratio, estMethod, simMeas=pearsonSim):\n",
    "    # Write this function to iterate over all users and for each perform evaluation by calling\n",
    "\t# the above cross_validate_user function on each user. MAE will be the ratio of total error \n",
    "\t# across all test cases to the total number of test cases, across all users\n",
    "    total_error = 0.0\n",
    "    total_count = 0\n",
    "    num_users = np.shape(dataMat)[0]  # Get the number of users\n",
    "\n",
    "    # Iterate over each user to compute the error and count\n",
    "    for user in range(num_users):\n",
    "        error_u, count_u = cross_validate_user(dataMat, user, test_ratio, estMethod, simMeas)\n",
    "        total_error += error_u\n",
    "        total_count += count_u\n",
    "\n",
    "    # Calculate MAE\n",
    "    if total_count == 0:\n",
    "        return float('inf')  # Return infinity if there are no test cases to avoid division by zero\n",
    "    mae = total_error / total_count\n",
    "    return mae"
   ]
  },
  {
   "cell_type": "code",
   "execution_count": 75,
   "id": "509ea4b4-6b70-4521-9e4f-690ce935d23e",
   "metadata": {},
   "outputs": [
    {
     "name": "stdout",
     "output_type": "stream",
     "text": [
      "Mean Absolute Error (MAE): 3.7212785228384746\n"
     ]
    }
   ],
   "source": [
    "mae = test(dataMat, test_ratio=0.2, estMethod=standEst, simMeas=pearsonSim)\n",
    "print(\"Mean Absolute Error (MAE):\", mae)"
   ]
  },
  {
   "cell_type": "code",
   "execution_count": 76,
   "id": "8b62907d-0a1e-49d4-9098-a5c1ef694e5e",
   "metadata": {},
   "outputs": [
    {
     "name": "stdout",
     "output_type": "stream",
     "text": [
      "Mean Absolute Error (MAE): 3.6778016071318476\n"
     ]
    }
   ],
   "source": [
    "mae = test(dataMat, test_ratio=0.2, estMethod=svdEst, simMeas=pearsonSim)\n",
    "print(\"Mean Absolute Error (MAE):\", mae)"
   ]
  },
  {
   "cell_type": "markdown",
   "id": "32d1b18f-6906-45f1-a836-f9a899fcdb87",
   "metadata": {},
   "source": [
    "### c.\t[15 pts] Write a new function \"print_most_similar_jokes\" which outputs the most similar jokes (based on user ratings) to a specified query joke. You function should take as input the joke ratings data, a query joke id, a parameter k for the number similar jokes, and a similarity metric function. It should output the text of the query joke as well as the texts of the top k most similar jokes in decreasing order of similarity (you should also provide the similarity values). Test your function as follows:\n",
    "\n",
    "     * Show the top 3 most similar jokes to joke with id 9 using Pearson similarity.\n",
    "     * Show the top 3 most similar jokes to Joke with id 9 using cosine similarity.\n",
    "\n",
    "[Note: see comments at the end of the provided module as well as comments for the provided stub function.]\n",
    "\n"
   ]
  },
  {
   "cell_type": "code",
   "execution_count": 78,
   "id": "07446f4f-1c11-4fd2-9eb7-1eafec090fe0",
   "metadata": {},
   "outputs": [],
   "source": [
    "def cosineSim(inA, inB):\n",
    "    num = float(np.dot(inA.T, inB))  # Use np.dot for vector dot product\n",
    "    denom = la.norm(inA) * la.norm(inB)\n",
    "    return 0.5 + 0.5 * (num / denom)\n"
   ]
  },
  {
   "cell_type": "code",
   "execution_count": 79,
   "id": "726d7213-7196-403c-8c13-5bdf77bd5a18",
   "metadata": {},
   "outputs": [],
   "source": [
    "def print_most_similar_jokes(dataMat, jokes, queryJoke, k, metric=pearsonSim):\n",
    "    dataMat = np.array(dataMat)\n",
    "    n_jokes = dataMat.shape[1]\n",
    "    similarities = []\n",
    "    \n",
    "    query_ratings = dataMat[:, queryJoke]\n",
    "    \n",
    "    for i in range(n_jokes):\n",
    "        if i != queryJoke:\n",
    "            joke_ratings = dataMat[:, i]\n",
    "            sim = metric(query_ratings, joke_ratings)\n",
    "            similarities.append((i, sim))\n",
    "    \n",
    "    similarities.sort(key=lambda x: x[1], reverse=True)\n",
    "    top_k = similarities[:k]\n",
    "    \n",
    "    print(f\"Selected joke:\\n\\n{get_joke_text(jokes, queryJoke)}\\n\")\n",
    "    print(f\"Top {k} Recommended jokes are:\\n\")\n",
    "    \n",
    "    for joke_id, sim in top_k:\n",
    "        print(f\"{get_joke_text(jokes, joke_id)}\")\n",
    "        print(f\"Similarity: {sim:.4f}\\n\")"
   ]
  },
  {
   "cell_type": "code",
   "execution_count": 80,
   "id": "34aa801a-ae10-4be0-bdfb-267a85e3ff77",
   "metadata": {},
   "outputs": [
    {
     "name": "stdout",
     "output_type": "stream",
     "text": [
      "Using Pearson similarity:\n",
      "Selected joke:\n",
      "\n",
      "['Two cannibals are eating a clown one turns to other and says: \"Does this taste funny to you? ']\n",
      "\n",
      "Top 3 Recommended jokes are:\n",
      "\n",
      "['A duck walks into a pharmacy and asks for a condom. The pharmacist says\"Would you like me to stick that on your bill?\"The duck says: \"What kind of duck do you think I am!\"']\n",
      "Similarity: 0.7614\n",
      "\n",
      "[\"Q. What do a hurricane a tornado and a redneck divorce all have in common? A. Someone's going to lose their trailer...\"]\n",
      "Similarity: 0.7584\n",
      "\n",
      "['A woman has twins and gives them up for adoption.  One of them goes to a family in Egypt and is named \"Amal.\"  The other goes to a  family in Spain; they name him \"Juan.\"  Years later Juan sends a picture of himself to his mom.  Upon receiving the picture she tells her husband that she wishes she also had a picture of Amal.  Her husband responds \"But they are twins-if you\\'ve seen Juan you\\'ve seen   Amal.']\n",
      "Similarity: 0.7541\n",
      "\n"
     ]
    }
   ],
   "source": [
    "# Test the function\n",
    "print(\"Using Pearson similarity:\")\n",
    "print_most_similar_jokes(dataMat, jokes, 9, 3, pearsonSim)"
   ]
  },
  {
   "cell_type": "code",
   "execution_count": 81,
   "id": "e5d9b787-ba70-4be7-86e8-6a23688a6ef8",
   "metadata": {},
   "outputs": [
    {
     "name": "stdout",
     "output_type": "stream",
     "text": [
      "\n",
      "Using Cosine similarity:\n",
      "Selected joke:\n",
      "\n",
      "['Two cannibals are eating a clown one turns to other and says: \"Does this taste funny to you? ']\n",
      "\n",
      "Top 3 Recommended jokes are:\n",
      "\n",
      "[\"Q. What do a hurricane a tornado and a redneck divorce all have in common? A. Someone's going to lose their trailer...\"]\n",
      "Similarity: 0.9290\n",
      "\n",
      "['May I take your order? the waiter asked. \"Yes how do you prepare your chickens?\" \"Nothing special sir\" he replied. \"We just tell them straight out that they\\'re going to die.\"']\n",
      "Similarity: 0.9284\n",
      "\n",
      "['A duck walks into a pharmacy and asks for a condom. The pharmacist says\"Would you like me to stick that on your bill?\"The duck says: \"What kind of duck do you think I am!\"']\n",
      "Similarity: 0.9269\n",
      "\n"
     ]
    }
   ],
   "source": [
    "print(\"\\nUsing Cosine similarity:\")\n",
    "print_most_similar_jokes(dataMat, jokes, 9, 3, cosineSim)"
   ]
  },
  {
   "cell_type": "markdown",
   "id": "57cdbe91-38b9-4436-8e7f-322dd6fbd345",
   "metadata": {},
   "source": [
    "### d.\t[15 pts] The implementation of item-based collaborative filtering provided in the module is not scalable since for each prediction it attempts to compute pairwise similarities among all items. Develop your own item-based collaborative filtering recommender that uses a model-based approach (separating the training and the prediction tasks). In the training component, item-item similarities for all pairs of items are computed and stored in an appropriate data structure such as a pairwise similarity matrix. Your training function should be able to use different similarity functions (passed as a parameter) including cosine Similarity or Pearson correlation. The prediction (or estimation) function should take as parameters a target user, an item, a value of k, and the similarities matrix computed in the training phase. It should then return the predicted rating on the target item for the target user. The predicted rating should be the weighted average of the target user's ratings on the k most similar items to the target item (obtained from the similarity matrix). Demonstrate that your function works by computing predicted ratings for users 4 and 25, using k = 10, on top two items recommended to each user on part a (using both Pearson and cosine similarities).\n"
   ]
  },
  {
   "cell_type": "code",
   "execution_count": 83,
   "id": "3a4b0880-eeb2-4ee5-8008-553792f878b8",
   "metadata": {},
   "outputs": [],
   "source": [
    "def recommender_train(matrix, similarity_measure):\n",
    "    num_items = np.shape(matrix)[1]\n",
    "    similarity_matrix = np.zeros((num_items, num_items))\n",
    "    matrix = np.mat(matrix)\n",
    "    \n",
    "    for item1 in range(num_items):\n",
    "        for item2 in range(num_items):\n",
    "            common_users = np.nonzero(np.logical_and(matrix[:, item1] > 0, matrix[:, item2] > 0))[0]\n",
    "            if len(common_users) == 0:\n",
    "                similarity_matrix[item1, item2] = 0\n",
    "            else:\n",
    "                similarity_matrix[item1, item2] = similarity_measure(matrix[common_users, item1], matrix[common_users, item2])\n",
    "    \n",
    "    return similarity_matrix\n"
   ]
  },
  {
   "cell_type": "code",
   "execution_count": 84,
   "id": "1bd0c744-dd57-4b96-9276-3acb353c3354",
   "metadata": {},
   "outputs": [],
   "source": [
    "def recommender_estimator(matrix, user_id, target_item, k, similarity_matrix):\n",
    "    num_items = np.shape(matrix)[1]\n",
    "    total_similarity = 0.0\n",
    "    weighted_ratings_sum = 0.0\n",
    "    data_matrix = np.mat(matrix)\n",
    "    \n",
    "    similar_items = np.argsort(similarity_matrix[target_item])[::-1]\n",
    "    \n",
    "    for item in similar_items:\n",
    "        user_rating = data_matrix[user_id, item]\n",
    "        if user_rating == 0:\n",
    "            continue\n",
    "        \n",
    "        common_users = np.nonzero(np.logical_and(data_matrix[:, target_item] > 0, data_matrix[:, item] > 0))[0]\n",
    "        if len(common_users) == 0:\n",
    "            similarity = 0\n",
    "        else:\n",
    "            similarity = similarity_matrix[target_item, item]\n",
    "        \n",
    "        total_similarity += similarity\n",
    "        weighted_ratings_sum += similarity * user_rating\n",
    "    \n",
    "    if total_similarity == 0:\n",
    "        return 0\n",
    "    else:\n",
    "        return weighted_ratings_sum / total_similarity\n"
   ]
  },
  {
   "cell_type": "code",
   "execution_count": 85,
   "id": "caa88990-6f2c-4420-a855-51556b267147",
   "metadata": {},
   "outputs": [
    {
     "name": "stderr",
     "output_type": "stream",
     "text": [
      "/var/folders/b2/s6cq43q964gcjk0fp440gx_h0000gn/T/ipykernel_69768/64137828.py:2: DeprecationWarning: Conversion of an array with ndim > 0 to a scalar is deprecated, and will error in future. Ensure you extract a single element from your array before performing this operation. (Deprecated NumPy 1.25.)\n",
      "  num = float(np.dot(inA.T, inB))  # Use np.dot for vector dot product\n"
     ]
    }
   ],
   "source": [
    "simMatrixPearson = recommender_train(dataMat,pearsonSim)\n",
    "simMatrixcosine= recommender_train(dataMat,cosineSim)"
   ]
  },
  {
   "cell_type": "code",
   "execution_count": 86,
   "id": "069ccde8-72f1-4ca5-9a96-fac7cb23b86c",
   "metadata": {},
   "outputs": [
    {
     "name": "stdout",
     "output_type": "stream",
     "text": [
      "14.413443009309448\n",
      "14.397311198445284\n"
     ]
    }
   ],
   "source": [
    "k=10\n",
    "#user 4 pearson\n",
    "print(recommender_estimator(dataMat,4,71,k,simMatrixPearson))\n",
    "print(recommender_estimator(dataMat,4,75,k,simMatrixPearson))"
   ]
  },
  {
   "cell_type": "code",
   "execution_count": 87,
   "id": "b5307c05-5a92-4400-a488-7952d5eacda0",
   "metadata": {},
   "outputs": [
    {
     "name": "stdout",
     "output_type": "stream",
     "text": [
      "14.293754381681566\n",
      "14.293605672411006\n"
     ]
    }
   ],
   "source": [
    "# user 4 cosine\n",
    "print(recommender_estimator(dataMat,4,71,k,simMatrixcosine))\n",
    "print(recommender_estimator(dataMat,4,75,k,simMatrixcosine))"
   ]
  },
  {
   "cell_type": "code",
   "execution_count": 88,
   "id": "3199da51-f61c-48ae-a2a5-7f703a3e866b",
   "metadata": {},
   "outputs": [
    {
     "name": "stdout",
     "output_type": "stream",
     "text": [
      "15.32467357100769\n",
      "15.324296950553675\n"
     ]
    }
   ],
   "source": [
    "#user 25 pearson\n",
    "print(recommender_estimator(dataMat,25,99,k,simMatrixPearson))\n",
    "print(recommender_estimator(dataMat,25,71,k,simMatrixPearson))"
   ]
  },
  {
   "cell_type": "code",
   "execution_count": 89,
   "id": "afdb018b-f253-4979-82af-372be74b9d21",
   "metadata": {},
   "outputs": [
    {
     "name": "stdout",
     "output_type": "stream",
     "text": [
      "15.246812052221651\n",
      "15.246235511518535\n"
     ]
    }
   ],
   "source": [
    "#user 25 pearson\n",
    "print(recommender_estimator(dataMat,25,99,k,simMatrixcosine))\n",
    "print(recommender_estimator(dataMat,25,71,k,simMatrixcosine))"
   ]
  },
  {
   "cell_type": "code",
   "execution_count": null,
   "id": "1509a7bb-d3bd-4eab-a0de-8645ba0b7a6b",
   "metadata": {},
   "outputs": [],
   "source": []
  },
  {
   "cell_type": "markdown",
   "id": "35807e7f-a8b5-4004-9e76-695421665c0c",
   "metadata": {},
   "source": [
    "### e.\t[Extra Credit - 10 pts] Modify the \"cross_validate_user\" and  \"test\" functions as necessary to use the new version of the prediction function (from part d). First test the prediction accuracy of your prediction function (similarly to part b, above) using both cosine and Pearson similarity measures. Next, provide a plot of cross-validation accuracies across a range of values of k. (running the \"test\" function for each value of k). Your plot may look similar to this example. Next, Modify the \"recommend\" function to use your new prediction function. Using the best observed value of k from your plot demonstrate the functionality of your recommender by generating top 3 recommendations for users 4 and 25.\n"
   ]
  }
 ],
 "metadata": {
  "kernelspec": {
   "display_name": "Python 3 (ipykernel)",
   "language": "python",
   "name": "python3"
  },
  "language_info": {
   "codemirror_mode": {
    "name": "ipython",
    "version": 3
   },
   "file_extension": ".py",
   "mimetype": "text/x-python",
   "name": "python",
   "nbconvert_exporter": "python",
   "pygments_lexer": "ipython3",
   "version": "3.12.4"
  }
 },
 "nbformat": 4,
 "nbformat_minor": 5
}
